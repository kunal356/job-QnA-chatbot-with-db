{
 "cells": [
  {
   "cell_type": "code",
   "execution_count": 1,
   "metadata": {},
   "outputs": [
    {
     "data": {
      "text/plain": [
       "True"
      ]
     },
     "execution_count": 1,
     "metadata": {},
     "output_type": "execute_result"
    }
   ],
   "source": [
    "from dotenv import load_dotenv\n",
    "load_dotenv()\n"
   ]
  },
  {
   "cell_type": "code",
   "execution_count": 2,
   "metadata": {},
   "outputs": [],
   "source": [
    "from langchain_community.document_loaders import UnstructuredEmailLoader\n",
    "from langchain_text_splitters import RecursiveCharacterTextSplitter\n",
    "from langchain_huggingface import HuggingFaceEmbeddings\n",
    "from langchain_community.vectorstores import FAISS\n"
   ]
  },
  {
   "cell_type": "code",
   "execution_count": 3,
   "metadata": {},
   "outputs": [],
   "source": [
    "from langchain_community.document_loaders import PyPDFDirectoryLoader"
   ]
  },
  {
   "cell_type": "code",
   "execution_count": 4,
   "metadata": {},
   "outputs": [],
   "source": [
    "loader = PyPDFDirectoryLoader('jobs')\n",
    "documents = loader.load()\n"
   ]
  },
  {
   "cell_type": "code",
   "execution_count": 18,
   "metadata": {},
   "outputs": [],
   "source": [
    "text_splitter = RecursiveCharacterTextSplitter(chunk_size=1000, chunk_overlap=200)"
   ]
  },
  {
   "cell_type": "code",
   "execution_count": 19,
   "metadata": {},
   "outputs": [],
   "source": [
    "docs = text_splitter.split_documents(docs)"
   ]
  },
  {
   "cell_type": "code",
   "execution_count": 20,
   "metadata": {},
   "outputs": [
    {
     "data": {
      "text/plain": [
       "146"
      ]
     },
     "execution_count": 20,
     "metadata": {},
     "output_type": "execute_result"
    }
   ],
   "source": [
    "len(docs)"
   ]
  },
  {
   "cell_type": "code",
   "execution_count": 4,
   "metadata": {},
   "outputs": [],
   "source": [
    "import os"
   ]
  },
  {
   "cell_type": "code",
   "execution_count": 7,
   "metadata": {},
   "outputs": [
    {
     "name": "stderr",
     "output_type": "stream",
     "text": [
      "text/html was not found. Falling back to text/plain.\n",
      "text/html was not found. Falling back to text/plain.\n",
      "text/html was not found. Falling back to text/plain.\n",
      "text/html was not found. Falling back to text/plain.\n",
      "text/html was not found. Falling back to text/plain.\n",
      "text/html was not found. Falling back to text/plain.\n",
      "text/html was not found. Falling back to text/plain.\n",
      "text/html was not found. Falling back to text/plain.\n",
      "text/html was not found. Falling back to text/plain.\n",
      "text/html was not found. Falling back to text/plain.\n",
      "text/html was not found. Falling back to text/plain.\n",
      "text/html was not found. Falling back to text/plain.\n",
      "text/html was not found. Falling back to text/plain.\n",
      "text/html was not found. Falling back to text/plain.\n",
      "text/html was not found. Falling back to text/plain.\n",
      "text/html was not found. Falling back to text/plain.\n",
      "text/html was not found. Falling back to text/plain.\n",
      "text/html was not found. Falling back to text/plain.\n",
      "text/html was not found. Falling back to text/plain.\n",
      "text/html was not found. Falling back to text/plain.\n",
      "text/html was not found. Falling back to text/plain.\n",
      "text/html was not found. Falling back to text/plain.\n",
      "text/html was not found. Falling back to text/plain.\n",
      "text/html was not found. Falling back to text/plain.\n",
      "text/html was not found. Falling back to text/plain.\n",
      "text/html was not found. Falling back to text/plain.\n",
      "text/html was not found. Falling back to text/plain.\n",
      "text/html was not found. Falling back to text/plain.\n",
      "text/html was not found. Falling back to text/plain.\n",
      "text/html was not found. Falling back to text/plain.\n",
      "text/html was not found. Falling back to text/plain.\n",
      "text/html was not found. Falling back to text/plain.\n",
      "text/html was not found. Falling back to text/plain.\n",
      "text/html was not found. Falling back to text/plain.\n",
      "text/html was not found. Falling back to text/plain.\n",
      "text/html was not found. Falling back to text/plain.\n",
      "text/html was not found. Falling back to text/plain.\n",
      "text/html was not found. Falling back to text/plain.\n",
      "text/html was not found. Falling back to text/plain.\n",
      "text/html was not found. Falling back to text/plain.\n",
      "text/html was not found. Falling back to text/plain.\n",
      "text/html was not found. Falling back to text/plain.\n",
      "text/html was not found. Falling back to text/plain.\n",
      "text/html was not found. Falling back to text/plain.\n",
      "text/html was not found. Falling back to text/plain.\n",
      "text/html was not found. Falling back to text/plain.\n"
     ]
    },
    {
     "name": "stdout",
     "output_type": "stream",
     "text": [
      "page_content='JobServe Job Alert 1st Line Support - ServiceNow Maidstone, Kent, England Market rates Contract 3 months Employment Business: Proactive Appointments Ref: JS10586BRM Posted: 19 Aug 2024 15:21 Resource25.F0461.B26F6E4@apps.jobserve.com 1st Line IT Support - ServiceNow experience Our client is looking for Service Desk Analyst with strong (and recent) experience of ServiceNow. The role is initially a 3 month contract with a view to extend long term thereafter. This role will be based 3 days on site so ideally you will be commutable from Maidstone. The role will be supporting several hundred users so a previous background working in large corporate style environment would be a distinct advantage. You will be responsible for providing first line technical assistance and support to end-users and assisting with troubleshooting software and hardware issues. The role requires someone who is immediately available or at short notice due to the urgency of the role. Inside IR35 Hybrid working available Market Rates - Depending on Experience Key skills/experience ServiceNow experience - Essential Previous experience in a similar 1st Line/Service Desk/IT Helpdesk Support capacity Strong & in-depth technical knowledge covering Microsoft technologies Respond to help desk tickets and provide timely technical support to end-users Excellent problem-solving & troubleshooting skills with excellent internal Customer Service skills Excellent communication skills Any experience of the following would be highly desirable: Intune, MDM or BOYD. Due to the volume of applications received for positions, it will not be possible to respond to all applications and only applicants who are considered suitable for interview will be Read more https://www.jobserve.com/WECD59DBF2D05E108FD.jsap?src=3520B40AB288477F9E48AE28&pf=498F746F7D2D09C4C451   Click below for more similar jobs https://www.jobserve.com/JobSearch.aspx?jid=ECD59DBF2D05E108FD&src=3520B40AB288477F9E48AE28 This job matches your currently set up saved search \"Data Engineer London 19 Aug 2024\" you have selected to receive matching jobs as soon as they are posted onto the JobServe website. Click below to stop receiving jobs which match your saved search http://www.jobserve.com/IJA/4B2AB9C55D5AA32B.jsrs JobServe Job Seeker Services' metadata={'source': './batch1/_1st Line Support - ServiceNow_ job alert.eml'}\n"
     ]
    }
   ],
   "source": [
    "# Initialize an empty list to store email data\n",
    "eml_data = []\n",
    "\n",
    "# Set the folder path containing the .eml files\n",
    "folder_path = 'batch1'\n",
    "\n",
    "# Loop through the files in the specified folder\n",
    "for file_name in os.listdir(folder_path):\n",
    "    # Check if the file has a .eml extension\n",
    "    if file_name.endswith('.eml'):\n",
    "        # Create a loader for the email file\n",
    "        loader = UnstructuredEmailLoader(f\"./{folder_path}/{file_name}\")\n",
    "        # Load the document from the email file\n",
    "        documents = loader.load()\n",
    "        # Extract the content from the loaded documents and append to the data list\n",
    "        for document in documents:\n",
    "            eml_data.append(document)\n",
    "print(eml_data[0])\n",
    "\n"
   ]
  },
  {
   "cell_type": "code",
   "execution_count": 8,
   "metadata": {},
   "outputs": [
    {
     "data": {
      "text/plain": [
       "50"
      ]
     },
     "execution_count": 8,
     "metadata": {},
     "output_type": "execute_result"
    }
   ],
   "source": [
    "len(eml_data)"
   ]
  },
  {
   "cell_type": "code",
   "execution_count": 9,
   "metadata": {},
   "outputs": [],
   "source": [
    "docs = text_splitter.split_documents(eml_data)\n"
   ]
  },
  {
   "cell_type": "code",
   "execution_count": 10,
   "metadata": {},
   "outputs": [
    {
     "data": {
      "text/plain": [
       "[Document(metadata={'source': './batch1/_1st Line Support - ServiceNow_ job alert.eml'}, page_content='JobServe Job Alert 1st Line Support - ServiceNow Maidstone, Kent, England Market rates Contract 3 months Employment Business: Proactive Appointments Ref: JS10586BRM Posted: 19 Aug 2024 15:21 Resource25.F0461.B26F6E4@apps.jobserve.com 1st Line IT Support - ServiceNow experience Our client is looking for Service Desk Analyst with strong (and recent) experience of ServiceNow. The role is initially a 3 month contract with a view to extend long term thereafter. This role will be based 3 days on site so ideally you will be commutable from Maidstone. The role will be supporting several hundred users so a previous background working in large corporate style environment would be a distinct advantage. You will be responsible for providing first line technical assistance and support to end-users and assisting with troubleshooting software and hardware issues. The role requires someone who is immediately available or at short notice due to the urgency of the role. Inside IR35 Hybrid working'),\n",
       " Document(metadata={'source': './batch1/_1st Line Support - ServiceNow_ job alert.eml'}, page_content='and assisting with troubleshooting software and hardware issues. The role requires someone who is immediately available or at short notice due to the urgency of the role. Inside IR35 Hybrid working available Market Rates - Depending on Experience Key skills/experience ServiceNow experience - Essential Previous experience in a similar 1st Line/Service Desk/IT Helpdesk Support capacity Strong & in-depth technical knowledge covering Microsoft technologies Respond to help desk tickets and provide timely technical support to end-users Excellent problem-solving & troubleshooting skills with excellent internal Customer Service skills Excellent communication skills Any experience of the following would be highly desirable: Intune, MDM or BOYD. Due to the volume of applications received for positions, it will not be possible to respond to all applications and only applicants who are considered suitable for interview will be Read more'),\n",
       " Document(metadata={'source': './batch1/_1st Line Support - ServiceNow_ job alert.eml'}, page_content='BOYD. Due to the volume of applications received for positions, it will not be possible to respond to all applications and only applicants who are considered suitable for interview will be Read more https://www.jobserve.com/WECD59DBF2D05E108FD.jsap?src=3520B40AB288477F9E48AE28&pf=498F746F7D2D09C4C451 \\xa0 Click below for more similar jobs https://www.jobserve.com/JobSearch.aspx?jid=ECD59DBF2D05E108FD&src=3520B40AB288477F9E48AE28 This job matches your currently set up saved search \"Data Engineer London 19 Aug 2024\" you have selected to receive matching jobs as soon as they are posted onto the JobServe website. Click below to stop receiving jobs which match your saved search http://www.jobserve.com/IJA/4B2AB9C55D5AA32B.jsrs JobServe Job Seeker Services'),\n",
       " Document(metadata={'source': './batch1/_1st Line Support Engineer_ job alert.eml'}, page_content='JobServe Job Alert 1st Line Support Engineer London £14.00 - £14.56 per hour + Negotiable Contract 2 Months Employment Business: Certes Computing Ltd Ref: JS-82042 Posted: 19 Aug 2024 14:38 Joanne.Stanley.872CB.856ADD6@apps.jobserve.com 1st Line Support Engineer Duration: 2 Months Rate: £14.56 per hour Location: London Start: ASAP IR35 Status: Inside We require a 1st Line Support Engineer for our higher education client to provide a professional customer service to all the staff, students and visitors who contact their ICT department. You will be the first point of contact for support requests that come to the ICT department via email, phone and in-person walk-ins to the ICT office Responsibilities include: Logging service requests and incidents in the Service Desk software Performing password and multi-factor authentication resets Helping staff and students to connect to WiFi networks 1st Line troubleshooting of Windows desktop issues including Office 365 In-person and remote'),\n",
       " Document(metadata={'source': './batch1/_1st Line Support Engineer_ job alert.eml'}, page_content='password and multi-factor authentication resets Helping staff and students to connect to WiFi networks 1st Line troubleshooting of Windows desktop issues including Office 365 In-person and remote troubleshooting of user issues with client issued devices (laptops and mobile devices) In-person troubleshooting of Teams/Zoom enabled multi-media trolleys Initial investigation of printing issues within the fleet of 8 multi-function printers including paper jams and replenishing toner Generating WiFi guest passes for visitors Escalating issues to other members of the ICT team via the Service Desk software Essential skills & experience required: You will possess previous IT experience within a 1st Line Support role/Service Desk. Proficient with the MS Office suite Good troubleshooting skills Excellent customer service skills Able to be onsite in London full time (Mon to Fri) for this role (no remote working). To apply for this role Read more'),\n",
       " Document(metadata={'source': './batch1/_1st Line Support Engineer_ job alert.eml'}, page_content='MS Office suite Good troubleshooting skills Excellent customer service skills Able to be onsite in London full time (Mon to Fri) for this role (no remote working). To apply for this role Read more https://www.jobserve.com/W72A011B6DB046D1E6F.jsap?src=3520B40AB288477F9E48AE28&pf=498F746F7D2D09C4C451 \\xa0 Click below for more similar jobs https://www.jobserve.com/JobSearch.aspx?jid=72A011B6DB046D1E6F&src=3520B40AB288477F9E48AE28 This job matches your currently set up saved search \"Data Engineer London 19 Aug 2024\" you have selected to receive matching jobs as soon as they are posted onto the JobServe website. Click below to stop receiving jobs which match your saved search http://www.jobserve.com/IJA/4B2AB9C55D5AA32B.jsrs JobServe Job Seeker Services'),\n",
       " Document(metadata={'source': './batch1/_Angular & Node.Js - Full Stack Developer - Lead_Senior_ job alert.eml'}, page_content='JobServe Job Alert Angular & Node.Js - Full Stack Developer - Lead/Senior Reading, Berkshire, England £65k - 77k per year + benefits Permanent Permanent Employment Agency: Sentinel Ref: JSCG/NODE/ANG Posted: 19 Aug 2024 14:18 Charlotte.Gray.DE2F4.E466447@apps.jobserve.com Angular & Node.Js - Full Stack Developer - Lead/Senior Permanent Location: Ideally Berkshire with x1 day per week in the office but other locations around the UK will be considered. Spomsorship Available Salary: £65,000 - £77,000 + benefits Angular & Node.Js Full Stack Developer is sought by my Plc client who are growing a new continuous improvement, development and support team. This Agile team are responsible for maintaining and enhancing in-house developed applications across the organisation. The Lead Angular and Node.js Developer plays a pivotal role in the development and maintenance of applications and infrastructure to facilitate speedy software development and deployment, whilst supporting the current team.'),\n",
       " Document(metadata={'source': './batch1/_Angular & Node.Js - Full Stack Developer - Lead_Senior_ job alert.eml'}, page_content='Developer plays a pivotal role in the development and maintenance of applications and infrastructure to facilitate speedy software development and deployment, whilst supporting the current team. With a unique combination of development, technical support and IT operations, they ensure that the critical applications and products are consistently improved and updated to align with business requirements. They also help to identify and resolve complex incidents and problems while devising technical solutions that cater to the needs of the business. Day to day: - Design, develop and maintain web applications (Node.js & Angular) as part of an agile team in a DevOps environment, with a focus of whole application systems and services (front end and backend). - Diagnose and resolve problems with application systems in the production environment, collaborating with team members in the fixing of faults as appropriate. This includes troubleshooting and resolving Read more'),\n",
       " Document(metadata={'source': './batch1/_Angular & Node.Js - Full Stack Developer - Lead_Senior_ job alert.eml'}, page_content='resolve problems with application systems in the production environment, collaborating with team members in the fixing of faults as appropriate. This includes troubleshooting and resolving Read more https://www.jobserve.com/W8785771046538B486D.jsap?src=3520B40AB288477F9E48AE28&pf=498F746F7D2D09C4C451 \\xa0 Click below for more similar jobs https://www.jobserve.com/JobSearch.aspx?jid=8785771046538B486D&src=3520B40AB288477F9E48AE28 This job matches your currently set up saved search \"Data Engineer London 19 Aug 2024\" you have selected to receive matching jobs as soon as they are posted onto the JobServe website. Click below to stop receiving jobs which match your saved search http://www.jobserve.com/IJA/4B2AB9C55D5AA32B.jsrs JobServe Job Seeker Services'),\n",
       " Document(metadata={'source': './batch1/_Application Support Team Lead - Commodities, SQL Server, Oracle, Windows, Linux, Unix,Java, .NET,_ job alert.eml'}, page_content='Application Support Team Lead - Commodities, SQL Server, Oracle, Windows, Linux, Unix,Java, .NET, London Excellent Permanent Application Support Team Lead - Commodities, SQL Server, Oracle, Windows, Linux, Unix, Java, .NET, Python, Git,Jenkins, Maven, Docker, Kubernetes, CI/CD pipelines Responsibilities Lead and develop the application support team, ensuring high-quality support for trading, logistics, finance, and back-office applications. Manage daily operations, allocate workloads, and resolve issues. Ensure the performance and reliability of business applications. Act as the escalation point for complex issues, ensuring timely resolution. Establish and enforce best practices in incident management, documentation, and change control. Drive solutions to enhance application reliability, performance, and business processes. Collaborate with development teams for seamless application transitions and supportability. Maintain knowledge bases and documentation for effective 1st and 2nd'),\n",
       " Document(metadata={'source': './batch1/_Application Support Team Lead - Commodities, SQL Server, Oracle, Windows, Linux, Unix,Java, .NET,_ job alert.eml'}, page_content='performance, and business processes. Collaborate with development teams for seamless application transitions and supportability. Maintain knowledge bases and documentation for effective 1st and 2nd line support. Degree educated or equivalent experience preferred. London Hybrid/Permanent By applying to this job you are sending us your CV, which may contain personal information. Please refer to our Privacy Notice to understand how we process this information. In short, in order to supply you with work finding services, we will hold and process your personal data, and only with your express permission we will share this personal data with a client (or a third party working on behalf of the client) by email or by upload to the Client/third parties vendor management system. By giving us permission to send your CV to a client, this constitutes permission to share the personal data that would be necessary to consider your application, interview you (Phone/video/face to face) and if'),\n",
       " Document(metadata={'source': './batch1/_Application Support Team Lead - Commodities, SQL Server, Oracle, Windows, Linux, Unix,Java, .NET,_ job alert.eml'}, page_content='us permission to send your CV to a client, this constitutes permission to share the personal data that would be necessary to consider your application, interview you (Phone/video/face to face) and if successful hire you. Scope AT acts as an employment agency for Permanent Recruitment and an employment business for the supply of temporary workers. By applying for this job you accept the Terms and Conditions, Data Protection Policy, Privacy Notice and Disclaimers which can be found at our website. Apply More jobs like this Employment Agency: Scope AT Limited Ref: JSGS0009 Posted: 19 Aug 2024 15:58 This job matches your saved search \"python-London\" that you have selected to receive matching jobs as soon as they are posted onto the JobServe website. If you don\\'t need each job sent immediately, would you prefer a daily email instead? Send me matching jobs once a day Stop receiving jobs which match your saved search JobServe Job Seeker This email was sent by:'),\n",
       " Document(metadata={'source': './batch1/_Brand Analyst - Berkshire_ job alert.eml'}, page_content='JobServe Job Alert Brand Analyst - Berkshire Berkshire, England Permanent Company: Pharmiweb Ref: JS11435AF1E67C Posted: 19 Aug 2024 14:41   Brand Analyst - Respiratory - Berkshire Our client is an innovation led transnational pharmaceutical company producing a wide range of generic and branded formulations. The behaviour of their leadership team and people has created an environment where entrepreneurship and innovation thrive. As part of their continued expansion in the UK, they are now seeking a talented Brand Analyst to work with their new Respiratory product. Reporting to the Senior Brand Manager, you will support the Commercial and Business Development teams by performing evaluations and analysis, and presenting timely reports to help the business remain competitive and identify opportunities. Key responsibilities will include: Build models to monitor, identify and communicate insights, including business cases, emerging opportunities, risks, and trends effectively with the'),\n",
       " Document(metadata={'source': './batch1/_Brand Analyst - Berkshire_ job alert.eml'}, page_content='opportunities. Key responsibilities will include: Build models to monitor, identify and communicate insights, including business cases, emerging opportunities, risks, and trends effectively with the business teams and internal stakeholders Become an expert in the various commercial datasets available across the UK business and build bespoke reports. Manage the 3rd party vendors supplying data to Lupin Provide ad hoc analysis support as required, including review of 3rd party dossier opportunities and NHS contract management reports Develop close working relationships with internal and external stakeholders to understand customer specific insights and agree actions Support strategic and budget review processes and projects providing analyst support and guidance Be involved in measuring value, impact, and return on investment of sales Read more https://www.jobserve.com/W287EABD0E9CA0F90BD.jsap?src=3520B40AB288477F9E48AE28&pf=498F746F7D2D09C4C451 \\xa0 Click below for more similar jobs'),\n",
       " Document(metadata={'source': './batch1/_Brand Analyst - Berkshire_ job alert.eml'}, page_content='value, impact, and return on investment of sales Read more https://www.jobserve.com/W287EABD0E9CA0F90BD.jsap?src=3520B40AB288477F9E48AE28&pf=498F746F7D2D09C4C451 \\xa0 Click below for more similar jobs https://www.jobserve.com/JobSearch.aspx?jid=287EABD0E9CA0F90BD&src=3520B40AB288477F9E48AE28 This job matches your currently set up saved search \"Data Engineer London 19 Aug 2024\" you have selected to receive matching jobs as soon as they are posted onto the JobServe website. Click below to stop receiving jobs which match your saved search http://www.jobserve.com/IJA/4B2AB9C55D5AA32B.jsrs JobServe Job Seeker Services'),\n",
       " Document(metadata={'source': './batch1/_Business Analyst - Verisk_PAS_Claims_ job alert.eml'}, page_content='JobServe Job Alert Business Analyst - Verisk/PAS/Claims Central London £65k - 75k per annum Permanent Employment Agency: William Alexander Recruitment Ltd Ref: JSBH-8091 Posted: 19 Aug 2024 14:22   Business Analyst - Verisk/PAS/Claims Our Specialty Insurance client is looking for a Business Analyst to support a number of system upgrades and a migration, as they move the PAS to another application. Required by you: Strong understanding of product-type environments Experience in Policy Administration System (PAS) and claims Background in systems projects Verisk/Sequel Systems experience is highly desirable London Market Insurance experience is essential This is a permanent opportunity paying £75,000 per annum, based in the London office 3 days per week, with monthly visits to Swansea required. The processing and use by us of your personal data is in accordance with our Privacy Notice which can be found on our website William Alexander Diversity & Inclusion Policy, actively promotes the'),\n",
       " Document(metadata={'source': './batch1/_Business Analyst - Verisk_PAS_Claims_ job alert.eml'}, page_content='The processing and use by us of your personal data is in accordance with our Privacy Notice which can be found on our website William Alexander Diversity & Inclusion Policy, actively promotes the principles of equality, diversity and inclusion in all its dealings with employees, workers, job applicants, clients, customers, suppliers, contractors and the public. We fully feel an inclusive work culture where people of different backgrounds are valued equally will ensure better outcomes for us all and we approach recruitment for our clients with the same perspective and qualities. Business Analyst - Verisk/PAS/Claims Read more https://www.jobserve.com/W1DEB920508D7DAF995.jsap?src=3520B40AB288477F9E48AE28&pf=498F746F7D2D09C4C451 \\xa0 Click below for more similar jobs https://www.jobserve.com/JobSearch.aspx?jid=1DEB920508D7DAF995&src=3520B40AB288477F9E48AE28 This job matches your currently set up saved search \"Data Engineer London 19 Aug 2024\" you have selected to receive matching jobs as'),\n",
       " Document(metadata={'source': './batch1/_Business Analyst - Verisk_PAS_Claims_ job alert.eml'}, page_content='This job matches your currently set up saved search \"Data Engineer London 19 Aug 2024\" you have selected to receive matching jobs as soon as they are posted onto the JobServe website. Click below to stop receiving jobs which match your saved search http://www.jobserve.com/IJA/4B2AB9C55D5AA32B.jsrs JobServe Job Seeker Services'),\n",
       " Document(metadata={'source': './batch1/_Clinical Start-Up Specialist- Sponsor-dedicated_ Location_ UK_ job alert.eml'}, page_content='JobServe Job Alert Clinical Start-Up Specialist- Sponsor-dedicated; Location: UK Maidenhead, Berkshire Permanent Company: Pharmiweb Ref: JS44360E52798F Posted: 19 Aug 2024 14:41   As a leading global contract research organization (CRO) with a passion for scientific rigor and decades of clinical development experience, Fortrea provides pharmaceutical, biotechnology, and medical device customers a wide range of clinical development, patient access and technology solutions across more than 20 therapeutic areas. With over 19,000 staff conducting operations in more than 90 countries, Fortrea is transforming drug and device development for partners and patients across the globe. Join our Innovative Team as a Start-Up Specialist in Clinical Research with Drug and Device Expertise! Are you a detail-oriented Clinical Research Professional with submissions experience in the UK? Do you thrive in environments where your unique strengths are valued? Then this opportunity is surely made for you!'),\n",
       " Document(metadata={'source': './batch1/_Clinical Start-Up Specialist- Sponsor-dedicated_ Location_ UK_ job alert.eml'}, page_content=\"Clinical Research Professional with submissions experience in the UK? Do you thrive in environments where your unique strengths are valued? Then this opportunity is surely made for you! The role: As a Start-Up Specialist, you'll play a key role in navigating regulatory submissions and selecting sites. We are looking for an individual with expertise in UK REC/CA submissions and involved in pre-study site assessments throughout the start-up process and contracting. Qualifications, Skills and Experience Core competencies : Previous submissions experience is a MUST! Excellent English skills Strong coordination and organizational skills Skilled knowledge of local regulatory environment and submission and approval processes, and understanding of how these impact study start-up. Requires strong understanding of local regulatory environment Behavioral Competency Read more https://www.jobserve.com/W1DEAF1F9946CF5451A.jsap?src=3520B40AB288477F9E48AE28&pf=498F746F7D2D09C4C451 \\xa0 Click below for\"),\n",
       " Document(metadata={'source': './batch1/_Clinical Start-Up Specialist- Sponsor-dedicated_ Location_ UK_ job alert.eml'}, page_content='understanding of local regulatory environment Behavioral Competency Read more https://www.jobserve.com/W1DEAF1F9946CF5451A.jsap?src=3520B40AB288477F9E48AE28&pf=498F746F7D2D09C4C451 \\xa0 Click below for more similar jobs https://www.jobserve.com/JobSearch.aspx?jid=1DEAF1F9946CF5451A&src=3520B40AB288477F9E48AE28 This job matches your currently set up saved search \"Data Engineer London 19 Aug 2024\" you have selected to receive matching jobs as soon as they are posted onto the JobServe website. Click below to stop receiving jobs which match your saved search http://www.jobserve.com/IJA/4B2AB9C55D5AA32B.jsrs JobServe Job Seeker Services'),\n",
       " Document(metadata={'source': './batch1/_Clinical Ward Manager_ job alert.eml'}, page_content='JobServe Job Alert Clinical Ward Manager Cambridge, Cambridgeshire Permanent Company: Pharmiweb Ref: JS27E6A1EEB558 Posted: 19 Aug 2024 14:41   RDL are seeking to recruit a qualified nurse as a Clinical Ward Manager, assigned to work in a Pharma Clinical Trials Phase I unit in Cambridge - to lead in clinical and quality delivery of multiple clinical studies conducted within the Clinical Unit Cambridge, with involvement from protocol development to execution and final study report. Duties : To use expertise in the execution of the clinical conduct of studies in the Clinical Unit Cambridge. To lead operational excellence, quality and data integrity in study conduct, ensuring successful execution of all study procedures. To ensure all studies proceed in accordance with the protocol, CUC procedures, company policies, ICH/GCP, regulatory and ethical requirements. To ensure subject safety and medical well being at all times and deliver immediate treatment in the event of a medical emergency.'),\n",
       " Document(metadata={'source': './batch1/_Clinical Ward Manager_ job alert.eml'}, page_content='company policies, ICH/GCP, regulatory and ethical requirements. To ensure subject safety and medical well being at all times and deliver immediate treatment in the event of a medical emergency. To lead, direct and train clinical staff in the conduct of all studies. Experience and Education : Degree Registered Nurse (Essential). Critical care experience or acute nursing experience. MSc/Certificate in clinical research (Preferred). At least 2-3 years experience in the conduct of clinical pharmacology studies. Broad understanding of the pharmaceutical industry and the clinical development process. Demonstrates solid technical expertise and working familiarity with a number of methods, techniques, procedures and processes. Demonstrates competence in planning and executing multiple tasks. ALS/ILS/BLS certified. A proven track Read more https://www.jobserve.com/WA36E6B9DCAE8FF91F4.jsap?src=3520B40AB288477F9E48AE28&pf=498F746F7D2D09C4C451 \\xa0 Click below for more similar jobs'),\n",
       " Document(metadata={'source': './batch1/_Clinical Ward Manager_ job alert.eml'}, page_content='tasks. ALS/ILS/BLS certified. A proven track Read more https://www.jobserve.com/WA36E6B9DCAE8FF91F4.jsap?src=3520B40AB288477F9E48AE28&pf=498F746F7D2D09C4C451 \\xa0 Click below for more similar jobs https://www.jobserve.com/JobSearch.aspx?jid=A36E6B9DCAE8FF91F4&src=3520B40AB288477F9E48AE28 This job matches your currently set up saved search \"AI Engineer London 19 Aug 2024\" you have selected to receive matching jobs as soon as they are posted onto the JobServe website. Click below to stop receiving jobs which match your saved search http://www.jobserve.com/IJA/FA367875DC061203.jsrs JobServe Job Seeker Services'),\n",
       " Document(metadata={'source': './batch1/_Cyber Security Analyst_ job alert.eml'}, page_content='JobServe Job Alert Cyber Security Analyst Stevenage £45k.0 - £50k.0 per annum + £45k - £50k (+ benefits) Permanent Employment Agency: Hays Specialist Recruitment Ref: JS-4586586 Posted: 19 Aug 2024 14:46   Your new company Our client provides infrastructure and utility services within water, energy, transport and telecom within the UK & Ireland. Your new role Our client is offering a Cybersecurity Analyst the opportunity to join their Information Security team. The team is growing to encompass further requirement - they are committed to protecting the business and helping their staff to be secure in ther work. They are looking for a meticulous and detail-orientated security analyst to be responsible for monitoring the security systems in their organisation. Responsibilities are below: Monitor, act on security incidents, requests, and events to ensure that threats, vulnerabilities, and breaches are managed to minimise impact to confidentiality, integrity and availability of MGS systems'),\n",
       " Document(metadata={'source': './batch1/_Cyber Security Analyst_ job alert.eml'}, page_content=\"act on security incidents, requests, and events to ensure that threats, vulnerabilities, and breaches are managed to minimise impact to confidentiality, integrity and availability of MGS systems and data. Prioritise and diagnose security incidents according to agreed procedures. Investigate the causes of incidents, document findings and seek resolution. Escalate unresolved incidents according to agreed procedures. Facilitate recovery, following the resolution of incidents [SN1]. Document and close resolved security incidents according to agreed procedures. Managing, monitoring Security software (CrowdStrike, Appcheck, Active Directory) Managing IS reports (CrowdStrike, Mimecast, business) What you'll need to succeed To be successfully appointed, you should have a strong working knowledge of cybersecurity, including intrusion prevention and incidence response. You should be strong Read more\"),\n",
       " Document(metadata={'source': './batch1/_Cyber Security Analyst_ job alert.eml'}, page_content='you\\'ll need to succeed To be successfully appointed, you should have a strong working knowledge of cybersecurity, including intrusion prevention and incidence response. You should be strong Read more https://www.jobserve.com/W96423667636C7E0022.jsap?src=3520B40AB288477F9E48AE28&pf=498F746F7D2D09C4C451 \\xa0 Click below for more similar jobs https://www.jobserve.com/JobSearch.aspx?jid=96423667636C7E0022&src=3520B40AB288477F9E48AE28 This job matches your currently set up saved search \"Data Scientist-London\" you have selected to receive matching jobs as soon as they are posted onto the JobServe website. Click below to stop receiving jobs which match your saved search http://www.jobserve.com/IJA/56DD20BEF05D8A88.jsrs JobServe Job Seeker Services'),\n",
       " Document(metadata={'source': './batch1/_D365 CRM Manager - Martech, Outside IR35_ job alert.eml'}, page_content='JobServe Job Alert D365 CRM Manager - Martech, Outside IR35 London Contract 3 months + Employment Business: Experis IT Ref: JS-BBBH233461 Posted: 19 Aug 2024 14:10   Outside IR35, Hybrid working - 3 days onsite London, D365 Consultant, Digital Healthcare, User adaption, D365 CE, Sales, Workflows, Sales Lifecycle, Optimisation, Marketing Automation, Martech My leading client is looking for a contract D365 CRM Manager to help the business the design and implementation of a CRM D365 platform across the business specifically around Marketing and Sales areas. You will work closely with the Marketing Managers to develop the end-to-end lead and prospect nurturing journeys, including sales qualified leads and marketing qualified leads through to sales conversion. The role will focus on utilising and optimising the Microsoft Dynamics 365 CRM platform structure and architecture to ensure that it creates value and engagement for all cohorts and captures and builds all required information at key'),\n",
       " Document(metadata={'source': './batch1/_D365 CRM Manager - Martech, Outside IR35_ job alert.eml'}, page_content='optimising the Microsoft Dynamics 365 CRM platform structure and architecture to ensure that it creates value and engagement for all cohorts and captures and builds all required information at key points in the customer life cycle. Proactively identifying any capability gaps, data integration requirements and working with IT to resolve those issues and make it fit for purpose. Skills Dynamics CRM/CE functional experience Automation Strategy Digital Strategy Previous work in Sales and Marketing Functions CRM Strategy Martech D365 User Adaption D365 Training Analysis campaigns. B2B background If this sounds of interest please message me for more details Read more https://www.jobserve.com/WA913B3FCC0B9E7EC5F.jsap?src=3520B40AB288477F9E48AE28&pf=498F746F7D2D09C4C451 \\xa0 Click below for more similar jobs https://www.jobserve.com/JobSearch.aspx?jid=A913B3FCC0B9E7EC5F&src=3520B40AB288477F9E48AE28 This job matches your currently set up saved search \"Data Engineer London 19 Aug 2024\" you have'),\n",
       " Document(metadata={'source': './batch1/_D365 CRM Manager - Martech, Outside IR35_ job alert.eml'}, page_content='jobs https://www.jobserve.com/JobSearch.aspx?jid=A913B3FCC0B9E7EC5F&src=3520B40AB288477F9E48AE28 This job matches your currently set up saved search \"Data Engineer London 19 Aug 2024\" you have selected to receive matching jobs as soon as they are posted onto the JobServe website. Click below to stop receiving jobs which match your saved search http://www.jobserve.com/IJA/4B2AB9C55D5AA32B.jsrs JobServe Job Seeker Services'),\n",
       " Document(metadata={'source': './batch1/_Data & Integration Architect_ job alert.eml'}, page_content='Data & Integration Architect Twickenham, Greater London, England £65k - 70k per year + Benefits Permanent Data & Integration Architect - Twickenham - Perm Salary: £65,000 - £70,000 p/a Location: Twickenham/Hybrid The role holder will take responsibility for ensuring the Data Platform meets present and future business and technology needs, and to deliver, review and take ownership of associated design blueprints/artefacts which enable that architecture to be built, operated and supported. they are also offering some amazing benefits like: A variety of corporate discounts, 25 days of annual leave and your birthday day off, free access to the gym, Life assurance of 4x your basic salary and many more. Data & Integration Architect - Main Responsibilities: Responsibility for all data architecture and data integration and increasing the maturity of how the data is handled. Being the SME on what data the company collects across its different platforms and defining how this data flows from'),\n",
       " Document(metadata={'source': './batch1/_Data & Integration Architect_ job alert.eml'}, page_content='and data integration and increasing the maturity of how the data is handled. Being the SME on what data the company collects across its different platforms and defining how this data flows from internal and external systems, into and out of the Data Platform. Providing technical leadership to all levels within the organisation on data architecture and information management. Defining and communicating the base line and target Data Platform Architecture with supporting artefacts, models, standards and processes which balance the needs of the business and technology and are in line with the architecture principles and guardrails of the company. Defining data models to support CRM and Analytics. Understanding key data and information related issues across both business and technology teams. Sharing data architecture and information management industry best practise, identifying potential opportunities, giving insights into emerging technologies and how they could impact, augment, or'),\n",
       " Document(metadata={'source': './batch1/_Data & Integration Architect_ job alert.eml'}, page_content=\"Sharing data architecture and information management industry best practise, identifying potential opportunities, giving insights into emerging technologies and how they could impact, augment, or support the strategic vision. Championing the value of data architecture governance and design deliverables across the business. Data & Integration Architect - Essential Skills: Bachelor's degree in Computer Science, Computer Engineering, or relevant work experience. Hands on experience with the technologies and methodologies used, such as: SQL PostGreSQL MongoDB APIs and Microservices Python, Pandas, PyTest Kafka Connect/Streaming Technologies CI/CD Kubernetes/Docker Knowledge of one or more of the following Primary Domains: BI, Analytics & Reporting Data Lakehouse, Data Marts & Data Virtualisation Data Mesh & Data Fabric Data Quality, Reference & Meta Data Enterprise Data Models & Data Governance Machine Learning Due to the volume of applications received for positions, it will not be\"),\n",
       " Document(metadata={'source': './batch1/_Data & Integration Architect_ job alert.eml'}, page_content='Data Mesh & Data Fabric Data Quality, Reference & Meta Data Enterprise Data Models & Data Governance Machine Learning Due to the volume of applications received for positions, it will not be possible to respond to all applications and only applicants who are considered suitable for interview will be contacted. Proactive Appointments Limited operates as an employment agency and employment business and is an equal opportunities organisation We take our obligations to protect your personal data very seriously. Any information provided to us will be processed as detailed in our Privacy Notice, a copy of which can be found on our website Apply More jobs like this Employment Agency: Proactive Appointments Ref: JS10593BRM Posted: 19 Aug 2024 15:48 Resource25.2E4EE.B6CC880@apps.jobserve.com This job matches your saved search \"python-London\" that you have selected to receive matching jobs as soon as they are posted onto the JobServe website. If you don\\'t need each job sent immediately, would'),\n",
       " Document(metadata={'source': './batch1/_Data & Integration Architect_ job alert.eml'}, page_content='job matches your saved search \"python-London\" that you have selected to receive matching jobs as soon as they are posted onto the JobServe website. If you don\\'t need each job sent immediately, would you prefer a daily email instead? Send me matching jobs once a day Stop receiving jobs which match your saved search JobServe Job Seeker This email was sent by:'),\n",
       " Document(metadata={'source': './batch1/_Data Analytics Analyst_ job alert.eml'}, page_content=\"JobServe Job Alert Data Analytics Analyst London Umbrella - inside IR35 Contract 6 months Employment Business: Henderson Scott Ref: JS-BBBH28523 Posted: 19 Aug 2024 13:52   Data Acquisition - Data Analytics - Data Sharing - ETL - 6 month contract (inside IR35) - Remote with ad hoc travel I am working with a major public sector organisation that is looking for a Data Analytics consultant to manage the aquisition of data for various initiatives within their analytics and data science team. This role requires an expert in data analytics, machine learning, and stakeholder management who can secure and integrate data assets to support the organisation's activities. Essential Skills and Experience: Knowledge and experience in data analytics, machine learning, data engineering, data sharing and ETL, ideally within public sector organisations. Experience with data in large, complex organisations. Strong stakeholder management and negotiation skills. Knnowledge of Data Protection legislation\"),\n",
       " Document(metadata={'source': './batch1/_Data Analytics Analyst_ job alert.eml'}, page_content='ETL, ideally within public sector organisations. Experience with data in large, complex organisations. Strong stakeholder management and negotiation skills. Knnowledge of Data Protection legislation and other standard Data guidelines and legislation Knowledge and skills in R, Python, Alteryx, SQL, Oracle etc. Interested? Apply now for immediate consideration! Read more https://www.jobserve.com/W6DD339E2EC95656A41.jsap?src=3520B40AB288477F9E48AE28&pf=498F746F7D2D09C4C451 \\xa0 Click below for more similar jobs https://www.jobserve.com/JobSearch.aspx?jid=6DD339E2EC95656A41&src=3520B40AB288477F9E48AE28 This job matches your currently set up saved search \"Data Scientist-London\" you have selected to receive matching jobs as soon as they are posted onto the JobServe website. Click below to stop receiving jobs which match your saved search http://www.jobserve.com/IJA/56DD20BEF05D8A88.jsrs JobServe Job Seeker Services'),\n",
       " Document(metadata={'source': './batch1/_Data Architect_ job alert.eml'}, page_content='JobServe Job Alert Data Architect Woking £85k - £100k per annum Permanent Employment Agency: CBS Butler Ref: JS-BBBH151039 Posted: 19 Aug 2024 14:26 Chloe.Manerowski.89264.CDEC3E0@apps.jobserve.com Data Architect + Salary: £85,000 - £100,000 + Security Clearance: Must hold SC or DV + Location: Romsey or Woking (Hybrid) *UK Eyes only - Dual Citizenship or overseas card not eligible due to nature of projects Areas of Responsibility/Tasks: Help Defence customers develop their strategy for data as a strategic asset and define the appropriate level of governance needed and the appropriate processes. Communicate the data strategy to non-technical stakeholders and technical experts. Define and the architecture for data software and analytics solutions, either as standalone engagements or within a larger multi-disciplinary programme environment. Support the Sales and Campaign functions to develop and foster client relationships and elaborate high level technical requirements. Provide technical'),\n",
       " Document(metadata={'source': './batch1/_Data Architect_ job alert.eml'}, page_content='larger multi-disciplinary programme environment. Support the Sales and Campaign functions to develop and foster client relationships and elaborate high level technical requirements. Provide technical guidance and coaching to junior members of the team. Essential skills/experience: Alongside your skills with Data specific technologies, you have a broad technical background which allows you to rapidly understand new systems and domains, and prototype solutions based on your experience and hands on approach. As a Data Architect, you will have a degree level qualification in a STEM subject, or you will have an education and level of experience which is comparable. You will have: Experience of Data Architecture and Data Strategy in a UK Defence or other Public Sector context. Good understanding of structured and unstructured data, and the techniques needed to exploit them in different Read more'),\n",
       " Document(metadata={'source': './batch1/_Data Architect_ job alert.eml'}, page_content='Architecture and Data Strategy in a UK Defence or other Public Sector context. Good understanding of structured and unstructured data, and the techniques needed to exploit them in different Read more https://www.jobserve.com/W40E24C6F35CCC49357.jsap?src=3520B40AB288477F9E48AE28&pf=498F746F7D2D09C4C451 \\xa0 Click below for more similar jobs https://www.jobserve.com/JobSearch.aspx?jid=40E24C6F35CCC49357&src=3520B40AB288477F9E48AE28 This job matches your currently set up saved search \"Data Engineer London 19 Aug 2024\" you have selected to receive matching jobs as soon as they are posted onto the JobServe website. Click below to stop receiving jobs which match your saved search http://www.jobserve.com/IJA/4B2AB9C55D5AA32B.jsrs JobServe Job Seeker Services'),\n",
       " Document(metadata={'source': './batch1/_Data Governance Lead - London Insurance Market - Hybrid_ job alert.eml'}, page_content=\"JobServe Job Alert Data Governance Lead - London Insurance Market - Hybrid City of London £75k - £85k per annum Permanent Employment Agency: i3 Resourcing Ref: JS-JS/DGL/P/1 Posted: 19 Aug 2024 13:51   Data Governance Lead - London Insurance Market - Hybrid Data Governance Lead London Insurance Market City, London/Hybrid (2-3 days in the office per week) Permanent £75,000 - £85,000 per annum + benefits + bonus PLEASE ONLY APPLY IF YOU HAVE PREVIOUS LONDON INSURANCE MARKET EXPERIENCE My client is a leading Specialist Insurer and they seek a Data Governance Lead with previous London Insurance Market experience to join their City office and take responsibility for planning and driving the implementation of the organisation's data governance strategy. The key purpose of this role is to manage organisation-wide data governance activities and you will have responsibility for improving the quality and managing the protection of sensitive data and information assets. The position will focus on\"),\n",
       " Document(metadata={'source': './batch1/_Data Governance Lead - London Insurance Market - Hybrid_ job alert.eml'}, page_content='data governance activities and you will have responsibility for improving the quality and managing the protection of sensitive data and information assets. The position will focus on establishing and ensuring adherence to an enterprise data governance framework for data policies, standards, consistency, practices and vision, both at the department and Business and Functional areas level, to achieve the required level of consistency, quality and protection to meet overall business needs. Promoting the role of data governance, mentoring and coaching the organisation to embed policy adherence into their own policies and procedures, following best practices. You will also serve as a point of escalation for governance, data quality and protection issues and work closely with Business and Functional areas to improve the quality and value of core data assets, data consistency, Read more https://www.jobserve.com/W4941CE935C8D168767.jsap?src=3520B40AB288477F9E48AE28&pf=498F746F7D2D09C4C451'),\n",
       " Document(metadata={'source': './batch1/_Data Governance Lead - London Insurance Market - Hybrid_ job alert.eml'}, page_content='areas to improve the quality and value of core data assets, data consistency, Read more https://www.jobserve.com/W4941CE935C8D168767.jsap?src=3520B40AB288477F9E48AE28&pf=498F746F7D2D09C4C451 \\xa0 Click below for more similar jobs https://www.jobserve.com/JobSearch.aspx?jid=4941CE935C8D168767&src=3520B40AB288477F9E48AE28 This job matches your currently set up saved search \"Data Scientist-London\" you have selected to receive matching jobs as soon as they are posted onto the JobServe website. Click below to stop receiving jobs which match your saved search http://www.jobserve.com/IJA/56DD20BEF05D8A88.jsrs JobServe Job Seeker Services'),\n",
       " Document(metadata={'source': './batch1/_Data Migration Analyst - DB & DC pensions - SQL_ job alert.eml'}, page_content='JobServe Job Alert Data Migration Analyst - DB & DC pensions - SQL Redhill, Surrey, England £500 - 575 per day + INSIDE IR35 Contract Employment Business: Lexstra Plc Ref: JSLW/CONFIGPENS/CTCT3 Posted: 19 Aug 2024 14:33 Louise.Wilson.68A95.A320215@apps.jobserve.com Pension Data Analysts/Configuration Analysts needed urgently for role involving pension administration data migration from a third party administration system. Proven experience of dealing with Defined Benefit, hybrid and Defined Contribution occupational pension schemes - ESSENTIAL Strong analysis skills Strong IT skills, including good experience of direct database use (with good SQL skills) Strong understanding of database table design and dependencies Strong experience of data comparison ideal for a candidate with proven pensions industry experience, who enjoys working with systems software and understands database table design and dependencies. 6 month contract, likely to become rolling Role can be fully remote Full job'),\n",
       " Document(metadata={'source': './batch1/_Data Migration Analyst - DB & DC pensions - SQL_ job alert.eml'}, page_content='industry experience, who enjoys working with systems software and understands database table design and dependencies. 6 month contract, likely to become rolling Role can be fully remote Full job spec\\' available Read more https://www.jobserve.com/W746853D61564F74ED1.jsap?src=3520B40AB288477F9E48AE28&pf=498F746F7D2D09C4C451 \\xa0 Click below for more similar jobs https://www.jobserve.com/JobSearch.aspx?jid=746853D61564F74ED1&src=3520B40AB288477F9E48AE28 This job matches your currently set up saved search \"Data Engineer London 19 Aug 2024\" you have selected to receive matching jobs as soon as they are posted onto the JobServe website. Click below to stop receiving jobs which match your saved search http://www.jobserve.com/IJA/4B2AB9C55D5AA32B.jsrs JobServe Job Seeker Services'),\n",
       " Document(metadata={'source': './batch1/_Data Scientist_ job alert.eml'}, page_content=\"JobServe Job Alert Data Scientist City of London £425 - £525 per day Contract 6 Months Employment Business: Huxley Banking & Financial Services Ref: JS-CR/509236 Posted: 19 Aug 2024 14:27   A 6 month day rate contract is available for an Operational Risk and Controls Analyst to join the risk team at a global asset & investment management business. The analystwill assist the Risk Director in managing non-financial risks for the business. This position is temporary, filling in for someone who is currently working on a controls and governance improvement project. The chosen candidate will handle operational risk tasks for the company's international operations, collaborating with the Risk Director to ensure effective business oversight by developing and implementing a thorough risk management system. This job is ideal for someone with experience in wealth or asset management and an interest in various non-financial risk areas, such as operational, resilience, IT, and cybersecurity. Job\"),\n",
       " Document(metadata={'source': './batch1/_Data Scientist_ job alert.eml'}, page_content='system. This job is ideal for someone with experience in wealth or asset management and an interest in various non-financial risk areas, such as operational, resilience, IT, and cybersecurity. Job Responsibilities Help the Risk Director create and explain the risk management framework, including processes for identifying and handling risks, managing issues, and ensuring business resilience. Assist in developing the Risk Function to act as a supportive partner to the business, offering valuable reports and oversight. Collaborate with key stakeholders and experts to implement a new risk management system (GRC) across the business. Ensure risks are identified, measured, addressed, and reported promptly. Help conduct detailed risk analyses to spot potential risks and ensure strong controls are in place. Regularly review Key Risk Indicators (KRIs) across the business. Participate Read more'),\n",
       " Document(metadata={'source': './batch1/_Data Scientist_ job alert.eml'}, page_content='promptly. Help conduct detailed risk analyses to spot potential risks and ensure strong controls are in place. Regularly review Key Risk Indicators (KRIs) across the business. Participate Read more https://www.jobserve.com/W26B25C2D9BA0BC39A5.jsap?src=3520B40AB288477F9E48AE28&pf=498F746F7D2D09C4C451 \\xa0 Click below for more similar jobs https://www.jobserve.com/JobSearch.aspx?jid=26B25C2D9BA0BC39A5&src=3520B40AB288477F9E48AE28 This job matches your currently set up saved search \"Data Scientist-London\" you have selected to receive matching jobs as soon as they are posted onto the JobServe website. Click below to stop receiving jobs which match your saved search http://www.jobserve.com/IJA/56DD20BEF05D8A88.jsrs JobServe Job Seeker Services'),\n",
       " Document(metadata={'source': './batch1/_DataPower Administrator_ job alert.eml'}, page_content=\"JobServe Job Alert DataPower Administrator City of London Contract 6 Months Employment Business: Experis IT Ref: JS-BBBH224251 Posted: 19 Aug 2024 15:28   DataPower Administrator Remote 6 months Inside ir35 Role description: Provide architectural consultation, support, mentoring, and guidance to project teams, solution architects and developers. Customer Interaction - engage with project & client teams when required and provide subject matter expertise/demo's and participates in sessions. As a Subject Matter Expert in your area of work, you are required to blog consistently. To own the RFS/project assigned and deliver the work as per the plan. Essential skills and experience: Minimum 8-10 years technical hand-on experience working with DataPower and APIC: Administration & configuration. Ex Experience working with API Connect (v5 and v10) including certificate Management, build & administration. Extensive experience managing SSL certificates across complex and diverse environments,\"),\n",
       " Document(metadata={'source': './batch1/_DataPower Administrator_ job alert.eml'}, page_content='Ex Experience working with API Connect (v5 and v10) including certificate Management, build & administration. Extensive experience managing SSL certificates across complex and diverse environments, ensuring their proper configuration, renewal, and troubleshooting. Proven track record in managing SSL certificate lifecycle, including but not limited to certificate creation, renewal, revocation, and validation. TLS profile creation & management, including certificate generation & configuration. An understanding of certificate usage (csr, pem, der, p12 usage and familiarization with handling utilities such as openssl). Work outside of regular office hours as needed to perform essential tasks and ensure minimal disruption to business operations. Desirable skills and experience: Urban code knowledge will be added advantage. Good communication skills Read more https://www.jobserve.com/WC2D73A6057D9E24BD5.jsap?src=3520B40AB288477F9E48AE28&pf=498F746F7D2D09C4C451 \\xa0 Click below for more similar'),\n",
       " Document(metadata={'source': './batch1/_DataPower Administrator_ job alert.eml'}, page_content='will be added advantage. Good communication skills Read more https://www.jobserve.com/WC2D73A6057D9E24BD5.jsap?src=3520B40AB288477F9E48AE28&pf=498F746F7D2D09C4C451 \\xa0 Click below for more similar jobs https://www.jobserve.com/JobSearch.aspx?jid=C2D73A6057D9E24BD5&src=3520B40AB288477F9E48AE28 This job matches your currently set up saved search \"Data Scientist-London\" you have selected to receive matching jobs as soon as they are posted onto the JobServe website. Click below to stop receiving jobs which match your saved search http://www.jobserve.com/IJA/56DD20BEF05D8A88.jsrs JobServe Job Seeker Services'),\n",
       " Document(metadata={'source': './batch1/_DELIVERY DRIVER (self employed)_ job alert.eml'}, page_content=\"JobServe Job Alert DELIVERY DRIVER (self employed) Brighton and Hove, England Permanent Company: Driver Express UK Ref: JS375D52194F Posted: 19 Aug 2024 14:41   We're seeking reliable, hard-working, and motivated Delivery Drivers to join one of our logistics service providers. This is a Delivery Driver role where you'll spend the majority of your day out on the road - so a passion for driving is a plus! Predefined routes and presorted packages are provided, as well as fully equipped vans with state-of-the-art technology. So, once you've conducted your safety checks and loaded up, you can simply head off and drive. What we are offering: Easy and fast application process Safe working conditions Motivated and diverse team 24/7 driver support hotline which helps you when out on the road Pre-sorted packages for your van loading Pre-defined routes Daily interactions with your community New and comfortable delivery uniform up to 5-day work week + Saturdays on rotation Responsibilities: Load\"),\n",
       " Document(metadata={'source': './batch1/_DELIVERY DRIVER (self employed)_ job alert.eml'}, page_content='packages for your van loading Pre-defined routes Daily interactions with your community New and comfortable delivery uniform up to 5-day work week + Saturdays on rotation Responsibilities: Load vans and deliver packages, by driving, stepping in and out of the vehicle safely Adhere to all safety regulations on the road Operate an electronic device for GPS and daily records Greet and interact with customers with a professional and positive attitude Requirements: Independent problem solver with good communication skills in English The ability and willingness to be able to use stairs to deliver packages Able to lift and deliver packages (up to 23 kg.) Full and valid UK or EU Manual Driving License (max 6 points, NO active IN, DR or TT codes) Must pass a criminal background check Must pass a 5 point drug & alcohol test Where vans are provided, they Read more https://www.jobserve.com/WD84306E67D31AE36AC.jsap?src=3520B40AB288477F9E48AE28&pf=498F746F7D2D09C4C451 \\xa0 Click below for more similar'),\n",
       " Document(metadata={'source': './batch1/_DELIVERY DRIVER (self employed)_ job alert.eml'}, page_content='point drug & alcohol test Where vans are provided, they Read more https://www.jobserve.com/WD84306E67D31AE36AC.jsap?src=3520B40AB288477F9E48AE28&pf=498F746F7D2D09C4C451 \\xa0 Click below for more similar jobs https://www.jobserve.com/JobSearch.aspx?jid=D84306E67D31AE36AC&src=3520B40AB288477F9E48AE28 This job matches your currently set up saved search \"Data Engineer London 19 Aug 2024\" you have selected to receive matching jobs as soon as they are posted onto the JobServe website. Click below to stop receiving jobs which match your saved search http://www.jobserve.com/IJA/4B2AB9C55D5AA32B.jsrs JobServe Job Seeker Services'),\n",
       " Document(metadata={'source': './batch1/_Experienced Clinical Research Associate_ job alert.eml'}, page_content=\"JobServe Job Alert Experienced Clinical Research Associate Reading, Berkshire Permanent Company: Pharmiweb Ref: JS2E82AE8ADE4F Posted: 19 Aug 2024 14:41   IQVIA UK are seeking Clinical Research Associates (CRA II/SR CRA) to strengthen our cFSP (sponsor dedicated) business unit. By joining IQVIA you'll harness the power of unparalleled data, advanced analytics, cutting-edge technologies, and deep healthcare and scientific expertise to drive healthcare forward. Responsibilities Perform site monitoring visits (selection, initiation, monitoring and close-out visits) in accordance with contracted scope of work and regulatory requirements, ie, Good Clinical Practice (GCP) and International Conference on Harmonization (ICH) guidelines Work with sites to adapt, drive, and track subject recruitment plan in line with project needs to enhance predictability Administer protocol and related study training to assigned sites and establish regular lines of communication with sites to manage ongoing\"),\n",
       " Document(metadata={'source': './batch1/_Experienced Clinical Research Associate_ job alert.eml'}, page_content=\"plan in line with project needs to enhance predictability Administer protocol and related study training to assigned sites and establish regular lines of communication with sites to manage ongoing project expectations and issues Evaluate the quality and integrity of study site practices related to the proper conduct of the protocol and adherence to applicable regulations. Escalate quality issues as appropriate Manage the progress of assigned studies by tracking regulatory submissions and approvals, recruitment and enrollment, case report form (CRF) completion and submission, and data query generation and resolution. May support start-up phase Ensure copies/originals (as required) site documents are available for filing in the Trial Master File (TMF) and verify that the Investigator's Site File (ISF) is maintained in accordance with GCP and Read more https://www.jobserve.com/W31EC8C8E840CDC8E70.jsap?src=3520B40AB288477F9E48AE28&pf=498F746F7D2D09C4C451 \\xa0 Click below for more similar\"),\n",
       " Document(metadata={'source': './batch1/_Experienced Clinical Research Associate_ job alert.eml'}, page_content='File (ISF) is maintained in accordance with GCP and Read more https://www.jobserve.com/W31EC8C8E840CDC8E70.jsap?src=3520B40AB288477F9E48AE28&pf=498F746F7D2D09C4C451 \\xa0 Click below for more similar jobs https://www.jobserve.com/JobSearch.aspx?jid=31EC8C8E840CDC8E70&src=3520B40AB288477F9E48AE28 This job matches your currently set up saved search \"Data Scientist-London\" you have selected to receive matching jobs as soon as they are posted onto the JobServe website. Click below to stop receiving jobs which match your saved search http://www.jobserve.com/IJA/56DD20BEF05D8A88.jsrs JobServe Job Seeker Services'),\n",
       " Document(metadata={'source': './batch1/_Field Engineer - Brighton_ job alert.eml'}, page_content='JobServe Job Alert Field Engineer - Brighton Brighton Up to £180 per day Contract Employment Business: ECS Resource Group Limited Ref: JS-43294 Posted: 19 Aug 2024 13:51   Job Title: Field Engineer Location: Brighton, BN11 MUST be located within a 45 minute driving distance from this postcode. Contract: 3 Months Daily Rate: £180 + 25p per mile Job Description: Our client is seeking a Field Engineer based in Brighton and surrounding areas. The role involves visiting client sites to install new software via USB. Full training will be provided. Requirements: Ability to start on ASAP Working hours start at 8am Must hold a full driving licence and own a vehicle Must be within a 45 minute driving distance from BN11 Compensation: £180 per day Additional 25p per mile for travel expenses How to Apply: Please apply for further information ECS Recruitment Group Ltd is acting as an Employment Business in relation to this vacancy. Read more'),\n",
       " Document(metadata={'source': './batch1/_Field Engineer - Brighton_ job alert.eml'}, page_content='day Additional 25p per mile for travel expenses How to Apply: Please apply for further information ECS Recruitment Group Ltd is acting as an Employment Business in relation to this vacancy. Read more https://www.jobserve.com/WA089DEC0A57B166080.jsap?src=3520B40AB288477F9E48AE28&pf=498F746F7D2D09C4C451 \\xa0 Click below for more similar jobs https://www.jobserve.com/JobSearch.aspx?jid=A089DEC0A57B166080&src=3520B40AB288477F9E48AE28 This job matches your currently set up saved search \"AI Engineer London 19 Aug 2024\" you have selected to receive matching jobs as soon as they are posted onto the JobServe website. Click below to stop receiving jobs which match your saved search http://www.jobserve.com/IJA/FA367875DC061203.jsrs JobServe Job Seeker Services'),\n",
       " Document(metadata={'source': './batch1/_IFRS 9 Implementation Engineer - SAS Developer_ job alert.eml'}, page_content='JobServe Job Alert IFRS 9 Implementation Engineer - SAS Developer Milton Keynes £0.00 - £600 per annum Permanent 6 months Employment Agency: Lorien Ref: JS-BBBH139623 Posted: 19 Aug 2024 14:08   IFRS 9 Implementation Engineer - SAS Developer Milton Keynes - 2 days a week onsite, 1 of which will be Milton Keynes 6 month contract Inside of IR35 Up to £600 Within the clients Risk Division, the Provisions & Forecasting team is responsible for estimating credit loss reserves and for forecasting future credit losses over a range of different scenarios and time horizons. The team is responsible for the maintenance and execution of the full suite of credit impairment models as well as DoD engines and plays a key role in the determination of credit loss budgets for the client and provides the credit loss projections used in internal and external stress testing exercises including those requested by regulatory authorities. Key responsibilities are: Oversee model implementation to produce model'),\n",
       " Document(metadata={'source': './batch1/_IFRS 9 Implementation Engineer - SAS Developer_ job alert.eml'}, page_content='loss projections used in internal and external stress testing exercises including those requested by regulatory authorities. Key responsibilities are: Oversee model implementation to produce model output On-going maintenance of models Support change process and implementation of new models Development of analytics dashboard, monitoring and MI reports Active engagement with other risk areas such as forecasting, portfolio management, collections etc. Key Skills & Experience SAS Developer IFRS9 Model Experience Experience Implementing new models SQL Experience If you are available & interested, please apply today! Carbon60, Lorien & SRG - The Impellam Group STEM Portfolio are acting as an Employment Business in relation to this vacancy. Read more https://www.jobserve.com/W64B4F287491632A3CD.jsap?src=3520B40AB288477F9E48AE28&pf=498F746F7D2D09C4C451 \\xa0 Click below for more similar jobs https://www.jobserve.com/JobSearch.aspx?jid=64B4F287491632A3CD&src=3520B40AB288477F9E48AE28 This job'),\n",
       " Document(metadata={'source': './batch1/_IFRS 9 Implementation Engineer - SAS Developer_ job alert.eml'}, page_content='Click below for more similar jobs https://www.jobserve.com/JobSearch.aspx?jid=64B4F287491632A3CD&src=3520B40AB288477F9E48AE28 This job matches your currently set up saved search \"Data Engineer London 19 Aug 2024\" you have selected to receive matching jobs as soon as they are posted onto the JobServe website. Click below to stop receiving jobs which match your saved search http://www.jobserve.com/IJA/4B2AB9C55D5AA32B.jsrs JobServe Job Seeker Services'),\n",
       " Document(metadata={'source': './batch1/_Infrastructure Architect, Redhill_ job alert.eml'}, page_content='JobServe Job Alert Infrastructure Architect, Redhill Redhill, Surrey £500-600 per day inside IR35 Contract 6 months initially Employment Business: Bench IT Limited Ref: JS/INFRAARCHRED/AD Posted: 19 Aug 2024 15:27 Anthony.Davies.03221.F93FD22@apps.jobserve.com Infrastructure Architect, Redhill £500-550 per day inside IR35, 6 months initially Bench IT require an experienced Infrastructure Architect to join a large organisation starting ASAP working onsite in Redhill. The successful candidate should have the skills and experience included below; Participate in solution design to ensure fit for purpose and cost effective high level designs against requirements, providing technical documentation to support proposed solutions Practical experience across a wide range of IT systems and technologies, such as server hardware, virtualisation platforms, network and security infrastructure, storage and SAN, and database Significant demonstrable experience with Cloud technologies ie MS Azure, AWS.'),\n",
       " Document(metadata={'source': './batch1/_Infrastructure Architect, Redhill_ job alert.eml'}, page_content='such as server hardware, virtualisation platforms, network and security infrastructure, storage and SAN, and database Significant demonstrable experience with Cloud technologies ie MS Azure, AWS. Experience of developing clear, concise documentation (design, diagrams. bill of materials, technical and support) Collaborate with Engineering, IT and Test Teams to determine how best to leverage tools and techniques involving infrastructure as code, configuration management and other DevOps-type techniques to improve delivery quality, speed and experience Strong track record of designing and implementing complex IT related projects Act as technical interface (including solution oversight) between project teams and specialist IT teams as required Provide specialist support/advice on projects as required Infrastructure Architect, Redhill £500-550 per day inside IR35, 6 months initially Read more'),\n",
       " Document(metadata={'source': './batch1/_Infrastructure Architect, Redhill_ job alert.eml'}, page_content='teams and specialist IT teams as required Provide specialist support/advice on projects as required Infrastructure Architect, Redhill £500-550 per day inside IR35, 6 months initially Read more https://www.jobserve.com/W9F3F8AA7CACFE2A81E.jsap?src=3520B40AB288477F9E48AE28&pf=498F746F7D2D09C4C451 \\xa0 Click below for more similar jobs https://www.jobserve.com/JobSearch.aspx?jid=9F3F8AA7CACFE2A81E&src=3520B40AB288477F9E48AE28 This job matches your currently set up saved search \"aws London 19 Aug 2024\" you have selected to receive matching jobs as soon as they are posted onto the JobServe website. Click below to stop receiving jobs which match your saved search http://www.jobserve.com/IJA/820CD8CF749C6219.jsrs JobServe Job Seeker Services'),\n",
       " Document(metadata={'source': './batch1/_Infrastructure Engineer - VDI_ job alert.eml'}, page_content='JobServe Job Alert Infrastructure Engineer - VDI London Contract 0 Weeks Employment Business: ARM (Advanced Resource Managers) Ref: JS-124702 Posted: 19 Aug 2024 15:37   Infrastructure Engineer - VDI 3 months initially Remote/London - 2 days a week on-site £585p/d - INSIDE IR35 Migrating VDI to W365 Responsibilities: * Migrating VDI to W365 * EUC Developer Delivery * 2nd line technical SME * Resolving user issues * Enabling migrated users to work effectively on new platform Disclaimer: This vacancy is being advertised by either Advanced Resource Managers Limited, Advanced Resource Managers IT Limited or Advanced Resource Managers Engineering Limited (\"ARM\"). ARM is a specialist talent acquisition and management consultancy. We provide technical contingency recruitment and a portfolio of more complex resource solutions. Our specialist recruitment divisions cover the entire technical arena, including some of the most economically and strategically important industries in the UK and the'),\n",
       " Document(metadata={'source': './batch1/_Infrastructure Engineer - VDI_ job alert.eml'}, page_content='complex resource solutions. Our specialist recruitment divisions cover the entire technical arena, including some of the most economically and strategically important industries in the UK and the world today. We will never send your CV without your permission. Where the role is marked as Outside IR35 in the advertisement this is subject to receipt of a final Status Determination Statement from the end Client and may be subject to change. Read more https://www.jobserve.com/W1DFFF46780C754B842.jsap?src=3520B40AB288477F9E48AE28&pf=498F746F7D2D09C4C451 \\xa0 Click below for more similar jobs https://www.jobserve.com/JobSearch.aspx?jid=1DFFF46780C754B842&src=3520B40AB288477F9E48AE28 This job matches your currently set up saved search \"AI Engineer London 19 Aug 2024\" you have selected to receive matching jobs as soon as they are posted onto the JobServe website. Click below to stop receiving jobs which match your saved search http://www.jobserve.com/IJA/FA367875DC061203.jsrs JobServe Job Seeker'),\n",
       " Document(metadata={'source': './batch1/_Infrastructure Engineer - VDI_ job alert.eml'}, page_content='jobs as soon as they are posted onto the JobServe website. Click below to stop receiving jobs which match your saved search http://www.jobserve.com/IJA/FA367875DC061203.jsrs JobServe Job Seeker Services'),\n",
       " Document(metadata={'source': './batch1/_Infrastructure Engineer, Redhill_ job alert.eml'}, page_content='JobServe Job Alert Infrastructure Engineer, Redhill Redhill £400-450 per day inside IR35 Contract 6 months initially Employment Business: Bench IT Limited Ref: JS/INFRAENGRED/AD Posted: 19 Aug 2024 15:47 Anthony.Davies.2DF7F.950632F@apps.jobserve.com Infrastructure Engineer, Redhill £400-450 per day inside IR35, 6 months initially Bench IT require an experienced Infrastructure Engineer to join a large organisation starting ASAP working onsite in Redhill. The successful candidate should have the skills and experience included below. Experience of large scale VMware migrations running mission critical customer applications. Assemble and commission physical servers, blades and blade chassis technologies, plus supporting hardware when required HPe Blade chassis and servers Windows 2016 - 2022 operating systems VMware 7/8, Virtual centre and SRM Anti-virus - McAfee SAN Storage - pref EMC PowerMax/Unity Experience of large Data Centre installations and practices Systems Administration of'),\n",
       " Document(metadata={'source': './batch1/_Infrastructure Engineer, Redhill_ job alert.eml'}, page_content='operating systems VMware 7/8, Virtual centre and SRM Anti-virus - McAfee SAN Storage - pref EMC PowerMax/Unity Experience of large Data Centre installations and practices Systems Administration of Windows and VMware Design, planning, configuration, support, testing and documentation of new and existing Windows and VMware systems Design, planning, configuration, support, testing and documentation of backup, archive and restore using tools such as Veritas Backup Exec Design, planning, configuration, support, testing and documentation of SAN systems, disk layout and configurations. Disaster recovery and Business Continuity design, planning and testing. Analyse and troubleshoot production faults and determine the most effective course as a subject matter expert in an expedited manner. Implementing server hardening standards as advised by Information Security team. Fibre channel networks/zoning - Cisco MDS Backup Systems - EMC Data Read more'),\n",
       " Document(metadata={'source': './batch1/_Infrastructure Engineer, Redhill_ job alert.eml'}, page_content='matter expert in an expedited manner. Implementing server hardening standards as advised by Information Security team. Fibre channel networks/zoning - Cisco MDS Backup Systems - EMC Data Read more https://www.jobserve.com/W44E256A901187E0664.jsap?src=3520B40AB288477F9E48AE28&pf=498F746F7D2D09C4C451 \\xa0 Click below for more similar jobs https://www.jobserve.com/JobSearch.aspx?jid=44E256A901187E0664&src=3520B40AB288477F9E48AE28 This job matches your currently set up saved search \"Data Engineer London 19 Aug 2024\" you have selected to receive matching jobs as soon as they are posted onto the JobServe website. Click below to stop receiving jobs which match your saved search http://www.jobserve.com/IJA/4B2AB9C55D5AA32B.jsrs JobServe Job Seeker Services'),\n",
       " Document(metadata={'source': './batch1/_Market Vendors Data Analyst_ job alert.eml'}, page_content=\"JobServe Job Alert Market Vendors Data Analyst City of London £45k - £100k per annum Permanent perm Employment Agency: Huxley Banking & Financial Services Ref: JS-PR/508976 Posted: 19 Aug 2024 14:34   Market Vendors Data Analyst Banking London This is a new and exclusive opportunity for an investment research data analyst with expertise in market data vendors to join this thing banking investment fund business. This role is due to a team promotion, and thus offers a new career opportunity Role details Title: Research investment data analyst Location: London City (London Bridge), 2/3 days in the office and home working hybrid Permanent role salary £70,000- £100,000 plus bonus Requirements : strong educational achievements (across Data, Maths, Statistics etc), experience with data analysis, experience with market data vendors Shortlisting now for August & September start I placed a Market Vendors Data Analyst in this role in 2022, who is now being promoted so it's a great opportunity for\"),\n",
       " Document(metadata={'source': './batch1/_Market Vendors Data Analyst_ job alert.eml'}, page_content=\"with market data vendors Shortlisting now for August & September start I placed a Market Vendors Data Analyst in this role in 2022, who is now being promoted so it's a great opportunity for you to now join the team The focus is on assessing the data accuracy which is coming through from the market data vendors You will be the lead on all morning production data issues and this data is critical for all downstream users including data modelers, quants and investment analysts. You will also be involved on data projects, onboarding data sets, enhancing data models, build automatic data policy checks, data models, data workflows so there is a wide variety of interest in this role Role requirements Experience working with market vendor data- (ie IHS Markit, ICAP, Moody's, S&P Global, Bloomberg, Refinitiv etc) Investment Research data Data Technical - SQL & Python (Write SQL logic, Read more\"),\n",
       " Document(metadata={'source': './batch1/_Market Vendors Data Analyst_ job alert.eml'}, page_content='Experience working with market vendor data- (ie IHS Markit, ICAP, Moody\\'s, S&P Global, Bloomberg, Refinitiv etc) Investment Research data Data Technical - SQL & Python (Write SQL logic, Read more https://www.jobserve.com/WDDD0FB35FCC2E7296E.jsap?src=3520B40AB288477F9E48AE28&pf=498F746F7D2D09C4C451 \\xa0 Click below for more similar jobs https://www.jobserve.com/JobSearch.aspx?jid=DDD0FB35FCC2E7296E&src=3520B40AB288477F9E48AE28 This job matches your currently set up saved search \"Data Engineer London 19 Aug 2024\" you have selected to receive matching jobs as soon as they are posted onto the JobServe website. Click below to stop receiving jobs which match your saved search http://www.jobserve.com/IJA/4B2AB9C55D5AA32B.jsrs JobServe Job Seeker Services'),\n",
       " Document(metadata={'source': './batch1/_Network Automation Tester_ job alert.eml'}, page_content='Network Automation Tester Reading, Berkshire TBC Inside IR35 Contract\\xa03 months minimum Job Type: Contract Duration: 3 months rolling Location: Reading & Remote Pay Rate: TBC Inside IR35 Role Purpose: We are seeking a meticulous and innovative Network Automation Tester to ensure the quality and security of the products developed by our team. Your role will be crucial in maintaining the integrity of our network services, with a focus on upholding quality standards and ensuring compliance with ISO regulations. Key Responsibilities: Collaborate with internal stakeholders to contribute to technical designs and discussions. Develop and execute test strategies, cases, and plans to ensure thorough coverage and quality assurance. Monitor and report on test metrics, capturing test coverage and failure rates effectively. Essential Skills and Experience: Exceptional communication skills, both written and verbal. Proven ability to adapt to changes and maintain attention to detail. Strong'),\n",
       " Document(metadata={'source': './batch1/_Network Automation Tester_ job alert.eml'}, page_content='and failure rates effectively. Essential Skills and Experience: Exceptional communication skills, both written and verbal. Proven ability to adapt to changes and maintain attention to detail. Strong networking knowledge, including L2 VPN, L3 VPN, EVPN, MPLS, SR, LDP, BGP, and IGP. Experience with network virtualization, containerization, and Infrastructure as Code (IaC). Proficiency in Unix environments (REHL, Centos) and Python programming. Familiarity with BDD/Gherkin syntax and networking protocols such as NETCONF, REST, RESTCONF, and SOAP. Experience with source control tools like GitLab and working from Jira story tickets. Understanding of agile methodologies, particularly Scrum. Knowledge of CI/CD methodology and experience with various testing methodologies and automation tools. Desirable Qualifications: Experience interacting with external stakeholders and customers. Knowledge of database SQL and NoSQL, such as Mongo. Understanding of Cisco NSO service and actions, workflow'),\n",
       " Document(metadata={'source': './batch1/_Network Automation Tester_ job alert.eml'}, page_content='Desirable Qualifications: Experience interacting with external stakeholders and customers. Knowledge of database SQL and NoSQL, such as Mongo. Understanding of Cisco NSO service and actions, workflow engines like IAP, service modelling in Yang, and containerization with Docker. Apply More jobs like this Employment Business: Flint UK Technology Services Ref: JSAT Posted: 19 Aug 2024 15:23 Roxana.Pupaza.3F56A.7F33956@apps.jobserve.com This job matches your saved search \"python-London\" that you have selected to receive matching jobs as soon as they are posted onto the JobServe website. If you don\\'t need each job sent immediately, would you prefer a daily email instead? Send me matching jobs once a day Stop receiving jobs which match your saved search JobServe Job Seeker This email was sent by:'),\n",
       " Document(metadata={'source': './batch1/_Network Engineer -Cisco-Juniper SRX-DV Cleared_ job alert.eml'}, page_content='JobServe Job Alert Network Engineer -Cisco-Juniper SRX-DV Cleared Reading £450 - £500 per day Contract 6+ months Employment Business: People Source Consulting Ltd Ref: JS-SD/NETWORKENG/02 Posted: 19 Aug 2024 15:16   Network Engineer - Network Design - Cisco Routing - Juniper SRX - Cisco Switching - OSPF - EIGRP - BGP - DV Clearance - Up to £500 a day (Inside IR35) - Reading Location: Reading (Onsite) Rate: Up to £500 per day (Inside IR35) Security Clearance: DV Clearance Required Role Overview: We are looking for an experienced DV Cleared Network Specialist to join our clients existing dynamic Solution Build Practice. They will work closely with the Solution Owner and Architects to assist with the instantiating of design documentation, on a wide variety of network solutions, which vary in size and complexity. You will be part of the Delivery Team and will liaise with the current SMEs for Networking, Infrastructure, Applications and Security as required. Essential skills: Network design'),\n",
       " Document(metadata={'source': './batch1/_Network Engineer -Cisco-Juniper SRX-DV Cleared_ job alert.eml'}, page_content='and complexity. You will be part of the Delivery Team and will liaise with the current SMEs for Networking, Infrastructure, Applications and Security as required. Essential skills: Network design (high and low level) Configuring network devices Previous experience Cisco routing and switching devices Demonstrable understanding of OSPF, EIGRP and BGP routing protocols. Demonstrable understanding of NAT, GRE Tunnelling protocol, DMVPN Tunnelling Protocol, Subnetting & Supernetting. Network operation in an offline environment Desirable skills: Previous experience with Juniper SRX or Fortinet FortiGate Previous experience with Cisco ASA and McAfee MFE appliances Previous experience with some of the following Cisco appliances: Cisco routing 1800,1900,2900,3900 and 4300 series. Cisco switching 3750, 3850 series, 9200 & 9300 series. Requirements: Proven experience in network engineering DV Clearance What Read more'),\n",
       " Document(metadata={'source': './batch1/_Network Engineer -Cisco-Juniper SRX-DV Cleared_ job alert.eml'}, page_content='Cisco routing 1800,1900,2900,3900 and 4300 series. Cisco switching 3750, 3850 series, 9200 & 9300 series. Requirements: Proven experience in network engineering DV Clearance What Read more https://www.jobserve.com/WF16A802874B2800B5C.jsap?src=3520B40AB288477F9E48AE28&pf=498F746F7D2D09C4C451 \\xa0 Click below for more similar jobs https://www.jobserve.com/JobSearch.aspx?jid=F16A802874B2800B5C&src=3520B40AB288477F9E48AE28 This job matches your currently set up saved search \"AI Engineer London 19 Aug 2024\" you have selected to receive matching jobs as soon as they are posted onto the JobServe website. Click below to stop receiving jobs which match your saved search http://www.jobserve.com/IJA/FA367875DC061203.jsrs JobServe Job Seeker Services'),\n",
       " Document(metadata={'source': './batch1/_Network Engineer, Redhill_ job alert.eml'}, page_content=\"JobServe Job Alert Network Engineer, Redhill Redhill £400-450 per day inside IR35 Contract 6 months initially Employment Business: Bench IT Limited Ref: JS/NETRED/AD Posted: 19 Aug 2024 15:56 Anthony.Davies.6ED79.569E865@apps.jobserve.com Network Engineer, Redhill £400-450 per day inside IR35, 6 months initially Bench IT require an experienced Network Engineer to join a large organisation starting ASAP working onsite in Redhill. The successful candidate should have the skills and experience included below. Proven experience working as a Senior Network Engineer Excellent knowledge of Cisco Routing & Switching Physical installation & config of; Cisco Cat 9300 F5 GTM & LTM FTD's Juniper SRX1500. Strong DC Networking experience CCNP Certification is desirable Excellent communication skills Network Engineer, Redhill £400-450 per day inside IR35, 6 months initially Read more https://www.jobserve.com/W3FABC316C6255765D7.jsap?src=3520B40AB288477F9E48AE28&pf=498F746F7D2D09C4C451 \\xa0 Click below\"),\n",
       " Document(metadata={'source': './batch1/_Network Engineer, Redhill_ job alert.eml'}, page_content='Engineer, Redhill £400-450 per day inside IR35, 6 months initially Read more https://www.jobserve.com/W3FABC316C6255765D7.jsap?src=3520B40AB288477F9E48AE28&pf=498F746F7D2D09C4C451 \\xa0 Click below for more similar jobs https://www.jobserve.com/JobSearch.aspx?jid=3FABC316C6255765D7&src=3520B40AB288477F9E48AE28 This job matches your currently set up saved search \"AI Engineer London 19 Aug 2024\" you have selected to receive matching jobs as soon as they are posted onto the JobServe website. Click below to stop receiving jobs which match your saved search http://www.jobserve.com/IJA/FA367875DC061203.jsrs JobServe Job Seeker Services'),\n",
       " Document(metadata={'source': './batch1/_Network Engineers_ job alert.eml'}, page_content='JobServe Job Alert Network Engineers London £400 - £650 per day Contract Employment Business: Robert Walters Ref: JS-11743 Posted: 19 Aug 2024 15:45   Key Responsibilities: Network Design & Architecture: Lead the design, architecture, management, and deployment of new and existing routing and switching within campus and data center networks. Execution & Implementation: Ensure proper execution of network changes and updates in compliance with corporate security policies to meet business requirements. Performance & Security Monitoring: Monitor network performance and security, and troubleshoot network-related issues efficiently. Capacity Planning: Research, recommend, and establish innovative solutions for capacity planning that scale with business growth. Automation: Introduce automation for daily routine administrative tasks where possible. Collaboration & Documentation: Collaborate with IT disciplines and maintain up-to-date documentation. Incident Management: Act as an escalation'),\n",
       " Document(metadata={'source': './batch1/_Network Engineers_ job alert.eml'}, page_content='for daily routine administrative tasks where possible. Collaboration & Documentation: Collaborate with IT disciplines and maintain up-to-date documentation. Incident Management: Act as an escalation resource during major incidents and outages as needed. Problem Resolution: Perform problem diagnosis, initiate problem resolution, and provide ongoing lifecycle support for network deployments and upgrades. Project Scoping: Collaborate with team members to ensure project scoping activities align with architectural objectives. Process Improvement: Participate in refining processes, policies, and best practices to ensure optimal performance and availability of technologies. Knowledge Development: Continuously develop specialized knowledge and technical subject matter expertise by staying informed about industry trends and emerging technologies. Read more https://www.jobserve.com/W1D919FF2448B7B99F0.jsap?src=3520B40AB288477F9E48AE28&pf=498F746F7D2D09C4C451 \\xa0 Click below for more similar jobs'),\n",
       " Document(metadata={'source': './batch1/_Network Engineers_ job alert.eml'}, page_content='about industry trends and emerging technologies. Read more https://www.jobserve.com/W1D919FF2448B7B99F0.jsap?src=3520B40AB288477F9E48AE28&pf=498F746F7D2D09C4C451 \\xa0 Click below for more similar jobs https://www.jobserve.com/JobSearch.aspx?jid=1D919FF2448B7B99F0&src=3520B40AB288477F9E48AE28 This job matches your currently set up saved search \"Data Scientist-London\" you have selected to receive matching jobs as soon as they are posted onto the JobServe website. Click below to stop receiving jobs which match your saved search http://www.jobserve.com/IJA/56DD20BEF05D8A88.jsrs JobServe Job Seeker Services'),\n",
       " Document(metadata={'source': './batch1/_Nuclear Compliance Officer_ job alert.eml'}, page_content=\"JobServe Job Alert Nuclear Compliance Officer London Permanent Company: Office for Nuclear Regulation Ref: JS8F5CB2202618 Posted: 19 Aug 2024 14:41   Office For Nuclear Regulation Inspector Band 3: £55,019 - £93,606 with a generous employers' pension contribution plus an additional £4,052 London Weighting Allowance (if applicable) Bootle/Cheltenham/London with flexible working options The challenge The Office for Nuclear Regulation (ONR) is a public corporation, responsible for the regulation of the nuclear industry in the United Kingdom. Our mission is to protect society by securing safe nuclear operations. As an ONR Inspector, you'll be part of a unique organisation, using your knowledge to regulate the nuclear industry. It's varied and vital work, as the rewards reflect. The role We are the UK's independent nuclear regulator with the legal authority to regulate nuclear safety, civil nuclear security, safeguards, conventional health and safety and transport. ONR deals with the entire\"),\n",
       " Document(metadata={'source': './batch1/_Nuclear Compliance Officer_ job alert.eml'}, page_content=\"the UK's independent nuclear regulator with the legal authority to regulate nuclear safety, civil nuclear security, safeguards, conventional health and safety and transport. ONR deals with the entire nuclear lifecycle, which means it's an organisation like no other. We regulate everything from the latest technologies to the decommissioning of nuclear facilities. The work of an ONR inspector can range from enforcing the law and investigating incidents, to on-site inspections and assessing submissions made by the duty holder, depending on specialism. In all cases, Inspectors must blend technical talents with proven people skills: communicating with a range of stakeholders, explaining the basis of our decisions and taking formal enforcement action as required. As a Nuclear Inspector, you'll have the chance to create a better, safer nuclear Read more https://www.jobserve.com/W54D2263991284E9534.jsap?src=3520B40AB288477F9E48AE28&pf=498F746F7D2D09C4C451 \\xa0 Click below for more similar jobs\"),\n",
       " Document(metadata={'source': './batch1/_Nuclear Compliance Officer_ job alert.eml'}, page_content='have the chance to create a better, safer nuclear Read more https://www.jobserve.com/W54D2263991284E9534.jsap?src=3520B40AB288477F9E48AE28&pf=498F746F7D2D09C4C451 \\xa0 Click below for more similar jobs https://www.jobserve.com/JobSearch.aspx?jid=54D2263991284E9534&src=3520B40AB288477F9E48AE28 This job matches your currently set up saved search \"AI Engineer London 19 Aug 2024\" you have selected to receive matching jobs as soon as they are posted onto the JobServe website. Click below to stop receiving jobs which match your saved search http://www.jobserve.com/IJA/FA367875DC061203.jsrs JobServe Job Seeker Services'),\n",
       " Document(metadata={'source': './batch1/_Nuclear Regulatory Analyst_ job alert.eml'}, page_content=\"JobServe Job Alert Nuclear Regulatory Analyst London Permanent Company: Office for Nuclear Regulation Ref: JS6EA37135B11A Posted: 19 Aug 2024 14:41   Office For Nuclear Regulation Inspector Band 3: £55,019 - £93,606 with a generous employers' pension contribution plus an additional £4,052 London Weighting Allowance (if applicable) Bootle/Cheltenham/London with flexible working options The challenge The Office for Nuclear Regulation (ONR) is a public corporation, responsible for the regulation of the nuclear industry in the United Kingdom. Our mission is to protect society by securing safe nuclear operations. As an ONR Inspector, you'll be part of a unique organisation, using your knowledge to regulate the nuclear industry. It's varied and vital work, as the rewards reflect. The role We are the UK's independent nuclear regulator with the legal authority to regulate nuclear safety, civil nuclear security, safeguards, conventional health and safety and transport. ONR deals with the entire\"),\n",
       " Document(metadata={'source': './batch1/_Nuclear Regulatory Analyst_ job alert.eml'}, page_content=\"the UK's independent nuclear regulator with the legal authority to regulate nuclear safety, civil nuclear security, safeguards, conventional health and safety and transport. ONR deals with the entire nuclear lifecycle, which means it's an organisation like no other. We regulate everything from the latest technologies to the decommissioning of nuclear facilities. The work of an ONR inspector can range from enforcing the law and investigating incidents, to on-site inspections and assessing submissions made by the duty holder, depending on specialism. In all cases, Inspectors must blend technical talents with proven people skills: communicating with a range of stakeholders, explaining the basis of our decisions and taking formal enforcement action as required. As a Nuclear Inspector, you'll have the chance to create a better, safer nuclear Read more https://www.jobserve.com/W6BC6F83AC6F27052C5.jsap?src=3520B40AB288477F9E48AE28&pf=498F746F7D2D09C4C451 \\xa0 Click below for more similar jobs\"),\n",
       " Document(metadata={'source': './batch1/_Nuclear Regulatory Analyst_ job alert.eml'}, page_content='have the chance to create a better, safer nuclear Read more https://www.jobserve.com/W6BC6F83AC6F27052C5.jsap?src=3520B40AB288477F9E48AE28&pf=498F746F7D2D09C4C451 \\xa0 Click below for more similar jobs https://www.jobserve.com/JobSearch.aspx?jid=6BC6F83AC6F27052C5&src=3520B40AB288477F9E48AE28 This job matches your currently set up saved search \"Data Engineer London 19 Aug 2024\" you have selected to receive matching jobs as soon as they are posted onto the JobServe website. Click below to stop receiving jobs which match your saved search http://www.jobserve.com/IJA/4B2AB9C55D5AA32B.jsrs JobServe Job Seeker Services'),\n",
       " Document(metadata={'source': './batch1/_Nuclear Site Inspector_ job alert.eml'}, page_content=\"JobServe Job Alert Nuclear Site Inspector London Permanent Company: Office for Nuclear Regulation Ref: JSACF30F358E34 Posted: 19 Aug 2024 14:41   Office For Nuclear Regulation Inspector Band 3: £55,019 - £93,606 with a generous employers' pension contribution plus an additional £4,052 London Weighting Allowance (if applicable) Bootle/Cheltenham/London with flexible working options The challenge The Office for Nuclear Regulation (ONR) is a public corporation, responsible for the regulation of the nuclear industry in the United Kingdom. Our mission is to protect society by securing safe nuclear operations. As an ONR Inspector, you'll be part of a unique organisation, using your knowledge to regulate the nuclear industry. It's varied and vital work, as the rewards reflect. The role We are the UK's independent nuclear regulator with the legal authority to regulate nuclear safety, civil nuclear security, safeguards, conventional health and safety and transport. ONR deals with the entire\"),\n",
       " Document(metadata={'source': './batch1/_Nuclear Site Inspector_ job alert.eml'}, page_content=\"the UK's independent nuclear regulator with the legal authority to regulate nuclear safety, civil nuclear security, safeguards, conventional health and safety and transport. ONR deals with the entire nuclear lifecycle, which means it's an organisation like no other. We regulate everything from the latest technologies to the decommissioning of nuclear facilities. The work of an ONR inspector can range from enforcing the law and investigating incidents, to on-site inspections and assessing submissions made by the duty holder, depending on specialism. In all cases, Inspectors must blend technical talents with proven people skills: communicating with a range of stakeholders, explaining the basis of our decisions and taking formal enforcement action as required. As a Nuclear Inspector, you'll have the chance to create a better, safer nuclear Read more https://www.jobserve.com/WD9761054ECFEC08CEB.jsap?src=3520B40AB288477F9E48AE28&pf=498F746F7D2D09C4C451 \\xa0 Click below for more similar jobs\"),\n",
       " Document(metadata={'source': './batch1/_Nuclear Site Inspector_ job alert.eml'}, page_content='have the chance to create a better, safer nuclear Read more https://www.jobserve.com/WD9761054ECFEC08CEB.jsap?src=3520B40AB288477F9E48AE28&pf=498F746F7D2D09C4C451 \\xa0 Click below for more similar jobs https://www.jobserve.com/JobSearch.aspx?jid=D9761054ECFEC08CEB&src=3520B40AB288477F9E48AE28 This job matches your currently set up saved search \"Data Engineer London 19 Aug 2024\" you have selected to receive matching jobs as soon as they are posted onto the JobServe website. Click below to stop receiving jobs which match your saved search http://www.jobserve.com/IJA/4B2AB9C55D5AA32B.jsrs JobServe Job Seeker Services'),\n",
       " Document(metadata={'source': './batch1/_ODOO Functional Consultant_ job alert.eml'}, page_content='JobServe Job Alert ODOO Functional Consultant London Between £45k-£60k Permanent Employment Agency: Eclipse I.T. Recruitment Ref: JSECLODOO CONSULT JULY 24 Posted: 19 Aug 2024 16:00   Job Summary: We are seeking a skilled ODOO Functional Consultant to join our clients dynamic team. The ideal candidate will possess extensive knowledge of the ODOO ERP system, with the ability to understand and translate business requirements into functional solutions. As an ODOO Functional Consultant, you will be responsible for implementing, customising, and supporting ODOO applications to ensure the optimal performance and usability for their clients. Benefits: Competitive salary and performance-based bonuses. Comprehensive health insurance plans. Opportunities for professional growth and development. Flexible working hours and remote working options. Collaborative and inclusive work environment. Key Responsibilities: Requirement Gathering and Analysis: Collaborate with stakeholders to gather and'),\n",
       " Document(metadata={'source': './batch1/_ODOO Functional Consultant_ job alert.eml'}, page_content='Flexible working hours and remote working options. Collaborative and inclusive work environment. Key Responsibilities: Requirement Gathering and Analysis: Collaborate with stakeholders to gather and analyse business requirements. Conduct gap analysis to identify the differences between business requirements and ODOO capabilities. Implementation: Configure and customize ODOO modules based on client requirements. Develop and execute detailed implementation plans to ensure successful deployment. Migrate data from Legacy systems to ODOO. Customisation and Development: Work with technical teams to develop custom features and reports. Ensure that customizations are scalable and maintainable. Training and Support: Conduct user training sessions to ensure effective use of the system. Provide ongoing support and troubleshooting for clients post-implementation. Create and maintain Read more https://www.jobserve.com/W0CE7AD61FDD7013E62.jsap?src=3520B40AB288477F9E48AE28&pf=498F746F7D2D09C4C451'),\n",
       " Document(metadata={'source': './batch1/_ODOO Functional Consultant_ job alert.eml'}, page_content='support and troubleshooting for clients post-implementation. Create and maintain Read more https://www.jobserve.com/W0CE7AD61FDD7013E62.jsap?src=3520B40AB288477F9E48AE28&pf=498F746F7D2D09C4C451 \\xa0 Click below for more similar jobs https://www.jobserve.com/JobSearch.aspx?jid=0CE7AD61FDD7013E62&src=3520B40AB288477F9E48AE28 This job matches your currently set up saved search \"Data Engineer London 19 Aug 2024\" you have selected to receive matching jobs as soon as they are posted onto the JobServe website. Click below to stop receiving jobs which match your saved search http://www.jobserve.com/IJA/4B2AB9C55D5AA32B.jsrs JobServe Job Seeker Services'),\n",
       " Document(metadata={'source': './batch1/_Office For Nuclear Regulation Inspector_ job alert.eml'}, page_content=\"JobServe Job Alert Office For Nuclear Regulation Inspector London Permanent Company: Office for Nuclear Regulation Ref: JSD8AC77B7CFB7 Posted: 19 Aug 2024 14:41   Office For Nuclear Regulation Inspector Band 3: £55,019 - £93,606 with a generous employers' pension contribution plus an additional £4,052 London Weighting Allowance (if applicable) Bootle/Cheltenham/London with flexible working options The challenge The Office for Nuclear Regulation (ONR) is a public corporation, responsible for the regulation of the nuclear industry in the United Kingdom. Our mission is to protect society by securing safe nuclear operations. As an ONR Inspector, you'll be part of a unique organisation, using your knowledge to regulate the nuclear industry. It's varied and vital work, as the rewards reflect. The role We are the UK's independent nuclear regulator with the legal authority to regulate nuclear safety, civil nuclear security, safeguards, conventional health and safety and transport. ONR deals\"),\n",
       " Document(metadata={'source': './batch1/_Office For Nuclear Regulation Inspector_ job alert.eml'}, page_content=\"The role We are the UK's independent nuclear regulator with the legal authority to regulate nuclear safety, civil nuclear security, safeguards, conventional health and safety and transport. ONR deals with the entire nuclear lifecycle, which means it's an organisation like no other. We regulate everything from the latest technologies to the decommissioning of nuclear facilities. The work of an ONR inspector can range from enforcing the law and investigating incidents, to on-site inspections and assessing submissions made by the duty holder, depending on specialism. In all cases, Inspectors must blend technical talents with proven people skills: communicating with a range of stakeholders, explaining the basis of our decisions and taking formal enforcement action as required. As a Nuclear Inspector, you'll have the chance to create a better, safer nuclear Read more https://www.jobserve.com/W3FF4EFF346D2DB0FA3.jsap?src=3520B40AB288477F9E48AE28&pf=498F746F7D2D09C4C451 \\xa0 Click below for\"),\n",
       " Document(metadata={'source': './batch1/_Office For Nuclear Regulation Inspector_ job alert.eml'}, page_content='Inspector, you\\'ll have the chance to create a better, safer nuclear Read more https://www.jobserve.com/W3FF4EFF346D2DB0FA3.jsap?src=3520B40AB288477F9E48AE28&pf=498F746F7D2D09C4C451 \\xa0 Click below for more similar jobs https://www.jobserve.com/JobSearch.aspx?jid=3FF4EFF346D2DB0FA3&src=3520B40AB288477F9E48AE28 This job matches your currently set up saved search \"Data Engineer London 19 Aug 2024\" you have selected to receive matching jobs as soon as they are posted onto the JobServe website. Click below to stop receiving jobs which match your saved search http://www.jobserve.com/IJA/4B2AB9C55D5AA32B.jsrs JobServe Job Seeker Services'),\n",
       " Document(metadata={'source': './batch1/_PCRF Designer_ job alert.eml'}, page_content='JobServe Job Alert PCRF Designer Reading, Berkshire TBC Inside IR35 Contract 3 months minimum Employment Business: Flint UK Technology Services Ref: JSPCRF Posted: 19 Aug 2024 15:23 Roxana.Pupaza.5CAFE.5D772D1@apps.jobserve.com We are looking for an experienced PCRF Designer to join one of our telecoms clients based in Reading on a minimum 3-month contract basis. As the designer for Policy Control and Charging Systems, your role will be to design and develop the Data Access Policy platforms and interfaces that we need to support 5G/4G/3G mobile data for our customers. Your focus will be on building a fully 5G Standalone ready control panel centred around 3GPP-standard PCF, PCRF and UDR platforms, their interfaces to BSS and OCS systems, and on building the most efficient policies within those platforms. What you will do Contribute to the design for our cloud native PCF, PCRF, and UDR for 5G, 4G, 3G data, including 5G Standalone Use your direct technical expertise to design the most'),\n",
       " Document(metadata={'source': './batch1/_PCRF Designer_ job alert.eml'}, page_content=\"those platforms. What you will do Contribute to the design for our cloud native PCF, PCRF, and UDR for 5G, 4G, 3G data, including 5G Standalone Use your direct technical expertise to design the most efficient policies within those platforms Ensure that our platforms and policies give our customers the best mobile data experience while also maximising our revenues Design and develop the Data Access Policy platforms and interfaces for 5G/4G/3G mobile data Build a fully 5G Standalone ready control plane centred around 3GPP-standard PCF, PCRF and UDR platforms Transform our business needs for new products and services into cost-effective solutions Lead and work within virtual teams, and maintain technical relationships with our company's stakeholders Learn continuously and keep our network at the forefront of technology What you need Proven technical knowledge and experience of PCRF platform architecture, including Read more\"),\n",
       " Document(metadata={'source': './batch1/_PCRF Designer_ job alert.eml'}, page_content='stakeholders Learn continuously and keep our network at the forefront of technology What you need Proven technical knowledge and experience of PCRF platform architecture, including Read more https://www.jobserve.com/W0A9D85259BD119526F.jsap?src=3520B40AB288477F9E48AE28&pf=498F746F7D2D09C4C451 \\xa0 Click below for more similar jobs https://www.jobserve.com/JobSearch.aspx?jid=0A9D85259BD119526F&src=3520B40AB288477F9E48AE28 This job matches your currently set up saved search \"Data Engineer London 19 Aug 2024\" you have selected to receive matching jobs as soon as they are posted onto the JobServe website. Click below to stop receiving jobs which match your saved search http://www.jobserve.com/IJA/4B2AB9C55D5AA32B.jsrs JobServe Job Seeker Services'),\n",
       " Document(metadata={'source': './batch1/_Power Apps Canvas Automate Developer - Banking_ job alert.eml'}, page_content='JobServe Job Alert Power Apps Canvas Automate Developer - Banking London £250 - £300 per day Contract 3 months + Employment Business: iKas International Ref: JS-POWER_CONSULTANT Posted: 19 Aug 2024 15:45   We are currently seeking a skilled Power Apps Consultant to join a major digitization program at a large investment bank. This is an exciting opportunity to work on transformative projects and make a significant impact. Required Skills: Expertise in Power Platform: Excellent knowledge of Power Apps, Power Automate, and Power BI. Advanced proficiency with Canvas apps , leveraging their features to create user-friendly interfaces. Strong experience with SharePoint lists for data management and automation. Technical Proficiency: Web Technologies: Office 365, especially SharePoint. Microsoft: Power Apps, Power Automate, Logic Apps, Azure Functions. Database Management: SQL Server, PostgreSQL, NoSQL, Oracle. Repository Management: GitLab, GitHub. Other Tools: JIRA, Confluence. Skills and'),\n",
       " Document(metadata={'source': './batch1/_Power Apps Canvas Automate Developer - Banking_ job alert.eml'}, page_content=\"Power Apps, Power Automate, Logic Apps, Azure Functions. Database Management: SQL Server, PostgreSQL, NoSQL, Oracle. Repository Management: GitLab, GitHub. Other Tools: JIRA, Confluence. Skills and Abilities: Analytical mindset with good design thinking. Strong English communication skills, both verbal and written. Ability to explain technical problems to non-technical stakeholders. Deep understanding of Agile methodologies. Please submit your CV immediately to be considered for this role. Your International Talent Provider iKas International Limited is providing recruitment services for this role. By clicking 'APPLY NOW', you confirm that you understand that any personal data you submit through your application will be used to provide you with our recruitment services. For further detail on how iKas International Limited process your data, please read the iKas Privacy Statement. Read more\"),\n",
       " Document(metadata={'source': './batch1/_Power Apps Canvas Automate Developer - Banking_ job alert.eml'}, page_content='your application will be used to provide you with our recruitment services. For further detail on how iKas International Limited process your data, please read the iKas Privacy Statement. Read more https://www.jobserve.com/WFCB9A791C52D936617.jsap?src=3520B40AB288477F9E48AE28&pf=498F746F7D2D09C4C451 \\xa0 Click below for more similar jobs https://www.jobserve.com/JobSearch.aspx?jid=FCB9A791C52D936617&src=3520B40AB288477F9E48AE28 This job matches your currently set up saved search \"Data Scientist-London\" you have selected to receive matching jobs as soon as they are posted onto the JobServe website. Click below to stop receiving jobs which match your saved search http://www.jobserve.com/IJA/56DD20BEF05D8A88.jsrs JobServe Job Seeker Services'),\n",
       " Document(metadata={'source': './batch1/_Procurement Administrator_ job alert.eml'}, page_content=\"JobServe Job Alert Procurement Administrator Bracknell, Berkshire £200 - £250 per day + Inside IR35 Contract 6 months + Employment Business: CBS Butler Ref: JS-BBBH151649 Posted: 19 Aug 2024 14:21 Chloe.Manerowski.19428.4BAF314@apps.jobserve.com Procurement Administrator +6 months + +On site in Bracknell - hybrid working +SC cleared role +£200-£250 a day Skills: +Procurement experience +SC clearance +ServiceNow Sole British national only due to the nature of the project no dual nationals applicable. My client has a requirement for a experienced Procurement Administrator, reporting into the Procurement and Office Manager. The Procurement Administrator will carry out administrative tasks to fulfil orders placed by the customer or the client. Responsibilities: Specialism and Skills: The Procurement administrator buy in IT goods and services on behalf of the customer based on the estate's needs. These items can range from devices, peripherals, consumables, training, or consultancy services\"),\n",
       " Document(metadata={'source': './batch1/_Procurement Administrator_ job alert.eml'}, page_content=\"administrator buy in IT goods and services on behalf of the customer based on the estate's needs. These items can range from devices, peripherals, consumables, training, or consultancy services Excellent numeracy skills Detailed and accuracy focussed Comprehensive MS Office skills, particularly Excel ServiceNow skills Excellent communication skills - written and oral Operations: Order Processing Undertaking account specific tasks to support the client On Site Procurement Capability located in Bracknell Providing ETAs and updates for Orders in ServiceNow Managing Overdue Orders (when ETA has passed) and providing updates via ServiceNow Attending internal Procurement Meetings as directed For orders over £10K these must be marked to exclude Auto Billing and the PO must be sent to key contacts within the account to ensure the necessary actions are fulfilled Demonstrating Procurement specialism utilising in situ tools and Read more\"),\n",
       " Document(metadata={'source': './batch1/_Procurement Administrator_ job alert.eml'}, page_content='Auto Billing and the PO must be sent to key contacts within the account to ensure the necessary actions are fulfilled Demonstrating Procurement specialism utilising in situ tools and Read more https://www.jobserve.com/W6AB50F17A3ED0B1396.jsap?src=3520B40AB288477F9E48AE28&pf=498F746F7D2D09C4C451 \\xa0 Click below for more similar jobs https://www.jobserve.com/JobSearch.aspx?jid=6AB50F17A3ED0B1396&src=3520B40AB288477F9E48AE28 This job matches your currently set up saved search \"Data Scientist-London\" you have selected to receive matching jobs as soon as they are posted onto the JobServe website. Click below to stop receiving jobs which match your saved search http://www.jobserve.com/IJA/56DD20BEF05D8A88.jsrs JobServe Job Seeker Services'),\n",
       " Document(metadata={'source': './batch1/_Sales Support Coordinator_ job alert.eml'}, page_content='JobServe Job Alert Sales Support Coordinator Milton Keynes, Buckinghamshire, England £28k - 32k per year + Company bonus Permanent Employment Agency: Proactive Appointments Ref: JS10574CA2 Posted: 19 Aug 2024 13:48 Resource4.AC01E.A864E1D@apps.jobserve.com Sales Support Coordinator Hybrid - Milton Keynes Office & Remote (2-3 days pw in the office) Permanent - £27,000 - £30,000 + Company bonus My client are looking for a Sales Support Coordinator who will become part of a diverse small Finance & Operations team within a leading internationally advanced technology solution provider, working with varied customers in a diverse number of sectors. The primary function of the role is to manage all pre-sales requirements and assist with sales order processing and reporting, as needed, to support clients, the Sales team and the Finance and Operations team. Essential skills & experience Knowledge of a ERP system (ideally Epicor) Knowledge of a CRM system (ideally Salesforce) 0365 literacy and IT'),\n",
       " Document(metadata={'source': './batch1/_Sales Support Coordinator_ job alert.eml'}, page_content='the Sales team and the Finance and Operations team. Essential skills & experience Knowledge of a ERP system (ideally Epicor) Knowledge of a CRM system (ideally Salesforce) 0365 literacy and IT navigation Knowledge of sales order processing environments Good written and verbal communication skills Effectively liaise with intercompany teams to gather the required data for efficient and accurate order processing Good organisational and problem-solving skills Demonstrate a high level of independent judgment and initiative High attention to detail Be self-motivated Handle confidential information in a professional manner Due to the volume of applications received for positions, it will not be possible to respond to all applications and only applicants who are considered suitable for interview will be contacted. Proactive Appointments Limited operates as an employment agency and employment business and is an equal opportunities organisation Read more'),\n",
       " Document(metadata={'source': './batch1/_Sales Support Coordinator_ job alert.eml'}, page_content='are considered suitable for interview will be contacted. Proactive Appointments Limited operates as an employment agency and employment business and is an equal opportunities organisation Read more https://www.jobserve.com/WF6FC0946AFD0354E27.jsap?src=3520B40AB288477F9E48AE28&pf=498F746F7D2D09C4C451 \\xa0 Click below for more similar jobs https://www.jobserve.com/JobSearch.aspx?jid=F6FC0946AFD0354E27&src=3520B40AB288477F9E48AE28 This job matches your currently set up saved search \"Data Engineer London 19 Aug 2024\" you have selected to receive matching jobs as soon as they are posted onto the JobServe website. Click below to stop receiving jobs which match your saved search http://www.jobserve.com/IJA/4B2AB9C55D5AA32B.jsrs JobServe Job Seeker Services'),\n",
       " Document(metadata={'source': './batch1/_SC Cleared DevOps Engineer_ job alert.eml'}, page_content='JobServe Job Alert SC Cleared DevOps Engineer London Contract 6 Months Employment Business: Salt Ref: JS-JO-2408-346662 Posted: 19 Aug 2024 16:00   Salt are recruiting for an immediate requirement with a central government client of ours who is looking for a SC Cleared DevOps Engineer . This will be an Inside IR35 contract for an initial 6 months . It would be a remote role with only 1 day a month expected in office, based in Newport . Included below are some of the essential requirements: * Strong understanding of DevOps principles and experience of working in a DevOps or iterative development culture. * Excellent knowledge and proven experience implementing continuous integration (CI) and continuous deployment (CD) tools, including pipeline design and administration. * Experience with automated testing and embedding this in CI/CD pipelines. * Demonstrable experience in service support including troubleshooting and incident resolution. * Experience in identification and tracking of'),\n",
       " Document(metadata={'source': './batch1/_SC Cleared DevOps Engineer_ job alert.eml'}, page_content='automated testing and embedding this in CI/CD pipelines. * Demonstrable experience in service support including troubleshooting and incident resolution. * Experience in identification and tracking of risks and issues. * Experience of knowledge sharing and mentoring junior members of the team. Technology stacks: * Terraform authoring/upgrading/refactoring * Azure DevOps Repos, YAML Pipelines * Deployed Apps/APIs via Azure DevOps YAML Pipelines * Azure * Azure AppService * Git To be considered for this position an Active SC Clearance is required. Read more https://www.jobserve.com/W9685BAF2FB63CAC156.jsap?src=3520B40AB288477F9E48AE28&pf=498F746F7D2D09C4C451 \\xa0 Click below for more similar jobs https://www.jobserve.com/JobSearch.aspx?jid=9685BAF2FB63CAC156&src=3520B40AB288477F9E48AE28 This job matches your currently set up saved search \"Data Engineer London 19 Aug 2024\" you have selected to receive matching jobs as soon as they are posted onto the JobServe website. Click below to stop'),\n",
       " Document(metadata={'source': './batch1/_SC Cleared DevOps Engineer_ job alert.eml'}, page_content='job matches your currently set up saved search \"Data Engineer London 19 Aug 2024\" you have selected to receive matching jobs as soon as they are posted onto the JobServe website. Click below to stop receiving jobs which match your saved search http://www.jobserve.com/IJA/4B2AB9C55D5AA32B.jsrs JobServe Job Seeker Services'),\n",
       " Document(metadata={'source': './batch1/_SCCM infrastructure Engineer_ job alert.eml'}, page_content='SCCM infrastructure Engineer London Contract Job Summary: The ideal candidate will have extensive experience in managing and automating IT systems using SCCM and PowerShell, along with a strong understanding of Windows environments. Key Responsibilities: Design, implement, and manage SCCM infrastructure for software distribution, patch management, and operating system deployment. Develop, test, and maintain PowerShell scripts for automation and management of Windows environments. Troubleshoot and resolve issues related to SCCM and PowerShell scripts. Collaborate with IT and development teams to design and implement automation solutions. Document scripts, processes, and procedures for future reference. Stay updated with the latest SCCM and PowerShell features and best practices. Requirements: Proven experience as an SCCM Engineer or similar role. Strong knowledge of SCCM (System Center Configuration Manager) and PowerShell scripting. Familiarity with Windows Server, Active Directory,'),\n",
       " Document(metadata={'source': './batch1/_SCCM infrastructure Engineer_ job alert.eml'}, page_content='Proven experience as an SCCM Engineer or similar role. Strong knowledge of SCCM (System Center Configuration Manager) and PowerShell scripting. Familiarity with Windows Server, Active Directory, and other Windows-based technologies. Experience with version control systems like Git. Excellent problem-solving skills and attention to detail. Strong communication and teamwork abilities. Preferred Qualifications: Experience with other Scripting languages (eg, Python, Bash). Apply More jobs like this Employment Business: Vallum Ref: JS Posted: 19 Aug 2024 15:27 Suresh.Pulimamidi.88134.55FC60D@apps.jobserve.com This job matches your saved search \"python-London\" that you have selected to receive matching jobs as soon as they are posted onto the JobServe website. If you don\\'t need each job sent immediately, would you prefer a daily email instead? Send me matching jobs once a day Stop receiving jobs which match your saved search JobServe Job Seeker This email was sent by:'),\n",
       " Document(metadata={'source': './batch1/_Scrum Master_ job alert.eml'}, page_content='JobServe Job Alert Scrum Master London, GB-ENG 600.00 - 700.00 GBP/Daily Contract Employment Business: TEKsystems Ref: JSJP-004685061 Posted: 19 Aug 2024 15:17   Description: Our Tier One Banking Client are after an Agile Scrum Master with front office experience : Guide and coach one or more teams on Scrum practices, and develop their understanding of Agile principles Facilitate Scrum ceremonies (for example, Sprint Planning, Daily Scrum, Backlog Refinement, Sprint Demos/Reviews, and Sprint Retrospectives). Experience working in Front Office Equities/Fixed Income Trading platform teams Lead and represent core development team during PI Planning sessions Skills: Scrum Agile front office Job Title: Scrum Master Location: London, UK Rate/Salary: 600.00 - 700.00 GBP Daily Job Type: Contract Trading as TEKsystems. Allegis Group Limited, Bracknell, RG12 1RT, United Kingdom. No. 2876353. Allegis Group Limited operates as an Employment Business and Employment Agency as set out in the Conduct'),\n",
       " Document(metadata={'source': './batch1/_Scrum Master_ job alert.eml'}, page_content='as TEKsystems. Allegis Group Limited, Bracknell, RG12 1RT, United Kingdom. No. 2876353. Allegis Group Limited operates as an Employment Business and Employment Agency as set out in the Conduct of Employment Agencies and Employment Businesses Regulations 2003. TEKsystems is a company within the Allegis Group network of companies (collectively referred to as \"Allegis Group\"). Aerotek, Aston Carter, EASi, Talentis Solutions, TEKsystems, Stamford Consultants and The Stamford Group are Allegis Group brands. If you apply, your personal data will be processed as described in the Allegis Group Online Privacy Notice available at our website. To access our Online Privacy Notice, which explains what information we may collect, use, share, and store about you, and describes your rights and choices about this, please go our website. We are part of a global Read more https://www.jobserve.com/WAAC97FC3A301CB14FB.jsap?src=3520B40AB288477F9E48AE28&pf=498F746F7D2D09C4C451 \\xa0 Click below for more similar'),\n",
       " Document(metadata={'source': './batch1/_Scrum Master_ job alert.eml'}, page_content='this, please go our website. We are part of a global Read more https://www.jobserve.com/WAAC97FC3A301CB14FB.jsap?src=3520B40AB288477F9E48AE28&pf=498F746F7D2D09C4C451 \\xa0 Click below for more similar jobs https://www.jobserve.com/JobSearch.aspx?jid=AAC97FC3A301CB14FB&src=3520B40AB288477F9E48AE28 This job matches your currently set up saved search \"Data Scientist-London\" you have selected to receive matching jobs as soon as they are posted onto the JobServe website. Click below to stop receiving jobs which match your saved search http://www.jobserve.com/IJA/56DD20BEF05D8A88.jsrs JobServe Job Seeker Services'),\n",
       " Document(metadata={'source': './batch1/_Senior Cloud Engineer_ job alert.eml'}, page_content='JobServe Job Alert Senior Cloud Engineer London Permanent Company: CACI Network Services Ref: JSCLOUD Posted: 19 Aug 2024 14:21 Ryan.Wiilson.82F3F.64E000B@apps.jobserve.com Overview: CACI is seeking a highly skilled and experienced Cloud Engineer to implement a new global network for one of our clients based on SASE technologies. The ideal candidate will have a strong background in traditional networking technologies, cloud networking, and modern SASE solutions, along with experience in leading security products. Responsibilities: Engineer and secure core Azure platform services across a global footprint. Implement strong cloud network engineering principles, adopting Zero Trust Architecture principles. Engineer and administer Next-Gen CASB solutions to gain visibility and control over cloud applications/data. Advance branch SD-WAN solutions to optimize network performance and connectivity for remote locations. Manage a global SASE network infrastructure that integrates with existing'),\n",
       " Document(metadata={'source': './batch1/_Senior Cloud Engineer_ job alert.eml'}, page_content='applications/data. Advance branch SD-WAN solutions to optimize network performance and connectivity for remote locations. Manage a global SASE network infrastructure that integrates with existing traditional network components (LAN, WAN). Collaborate with cross-functional teams, including security, operations, and application teams, to ensure the SASE architecture aligns with business needs and IT strategies. Develop and maintain network design documents, including topology diagrams, network segmentation plans, and security policies. Configure and deploy SASE components, such as: SD-WAN Cloud Access Security Brokers (CASB) Zero Trust Network Access (ZTNA) Firewall-as-a-Service (FWaaS) Work within an Azure Environment using infrastructure tools such as: Python/PowerShell Ansible Terraform Azure DevOps CI/CD Kubernetes Improve operational processes and build Read more https://www.jobserve.com/W2B9577C412EB6354F1.jsap?src=3520B40AB288477F9E48AE28&pf=498F746F7D2D09C4C451 \\xa0 Click below for'),\n",
       " Document(metadata={'source': './batch1/_Senior Cloud Engineer_ job alert.eml'}, page_content='DevOps CI/CD Kubernetes Improve operational processes and build Read more https://www.jobserve.com/W2B9577C412EB6354F1.jsap?src=3520B40AB288477F9E48AE28&pf=498F746F7D2D09C4C451 \\xa0 Click below for more similar jobs https://www.jobserve.com/JobSearch.aspx?jid=2B9577C412EB6354F1&src=3520B40AB288477F9E48AE28 This job matches your currently set up saved search \"AI Engineer London 19 Aug 2024\" you have selected to receive matching jobs as soon as they are posted onto the JobServe website. Click below to stop receiving jobs which match your saved search http://www.jobserve.com/IJA/FA367875DC061203.jsrs JobServe Job Seeker Services'),\n",
       " Document(metadata={'source': './batch1/_Senior Data Analyst SQL Server Python_ job alert.eml'}, page_content='JobServe Job Alert Senior Data Analyst SQL Server Python London £50k - £100k per annum Permanent PERM Employment Agency: Huxley Banking & Financial Services Ref: JS-PR/507978 Posted: 19 Aug 2024 13:59   Senior Data Analyst SQL Server Python Investment Management/Asset Management This is a new and exclusive opportunity for a Senior Data Analyst with strong technical skills across SQL Server Python to join my client who are a leading Investment Management/Asset Management business Role details * Title: Data Analyst * Technical stack SQL Server Python * Employer: Investment Management/Asset Management * Location: London City (London Bridge) and home working hybrid (1 or 2 days in the office) * Salary £70-100,000 dependent on level of experience * Data: investment data This is a brilliant opportunity for a Data Analyst with experience in the investment management financial services space to have a lead voice on managing the current data platform (including troubleshooting and fixing when'),\n",
       " Document(metadata={'source': './batch1/_Senior Data Analyst SQL Server Python_ job alert.eml'}, page_content='for a Data Analyst with experience in the investment management financial services space to have a lead voice on managing the current data platform (including troubleshooting and fixing when things go wrong!), and working on new data projects, including designing new data sets, working with vendors and invests on trialing data programs, and designing a new data frame working in python This role has a lot of variety to it, and requires a good mix of technical skills across SQL SERVER and Python, and a genuine invest in financial data You will be working directly with the Head of Investment data solutions who is London based, and a wider team based across the USA Day TO Day * First thing in the morning, you will analyze anything that has fallen down overnight, such as Fixing and troubleshooting data quality, missing files, corrupted files * Then you will be working on key data Read more'),\n",
       " Document(metadata={'source': './batch1/_Senior Data Analyst SQL Server Python_ job alert.eml'}, page_content='the morning, you will analyze anything that has fallen down overnight, such as Fixing and troubleshooting data quality, missing files, corrupted files * Then you will be working on key data Read more https://www.jobserve.com/W66E57830BB0FD818D3.jsap?src=3520B40AB288477F9E48AE28&pf=498F746F7D2D09C4C451 \\xa0 Click below for more similar jobs https://www.jobserve.com/JobSearch.aspx?jid=66E57830BB0FD818D3&src=3520B40AB288477F9E48AE28 This job matches your currently set up saved search \"Data Engineer London 19 Aug 2024\" you have selected to receive matching jobs as soon as they are posted onto the JobServe website. Click below to stop receiving jobs which match your saved search http://www.jobserve.com/IJA/4B2AB9C55D5AA32B.jsrs JobServe Job Seeker Services'),\n",
       " Document(metadata={'source': './batch1/_Senior Network Automation Developer_ job alert.eml'}, page_content='JobServe Job Alert Senior Network Automation Developer Reading, Berkshire TBC Inside IR35 Contract 3 months minimum Employment Business: Flint UK Technology Services Ref: JSAUTOMATION Posted: 19 Aug 2024 15:22 Roxana.Pupaza.D245C.94FB4EF@apps.jobserve.com Job Type: Contract Duration: 3 months rolling Location: Reading & Remote Pay Rate: TBC Inside IR35 Role Purpose: Join our telco client as a Senior Network Automation Developer, where you will provide technical leadership and hands-on development work within your assigned development squad. Your role is crucial in supporting and directing developers to meet the objectives of Jira stories and produce quality code. You will work closely with the tech lead and product owner to design service intents that meet customer outcomes and contribute to a cycle of continuous improvement. Key Responsibilities & Accountabilities: Visualize customer requirements into automatable steps, creating a clear workflow and Jira stories. Exhibit leadership'),\n",
       " Document(metadata={'source': './batch1/_Senior Network Automation Developer_ job alert.eml'}, page_content='to a cycle of continuous improvement. Key Responsibilities & Accountabilities: Visualize customer requirements into automatable steps, creating a clear workflow and Jira stories. Exhibit leadership skills to maintain technical authority over the development squad. Conduct code reviews and ensure adherence to best practices in development5678. Essential Must-Have Skills: Strong soft skills, including excellent communication abilities and the flexibility to adapt to changing priorities. Proficiency in CI/CD development approaches and a working knowledge of NETCONF, REST, RESTCONF, SOAP, and Unix (REHL, Centos). Python coding skills with an object-oriented approach and familiarity with Kafka/messaging bus and service modelling in Yang Desirable Skills: Experience with cloud platforms such as AWS, GCP, or Azure. Knowledge of API design, documentation, and database management with SQL and NoSQL (eg, Mongo). Excellent networking skills, including Read more'),\n",
       " Document(metadata={'source': './batch1/_Senior Network Automation Developer_ job alert.eml'}, page_content='with cloud platforms such as AWS, GCP, or Azure. Knowledge of API design, documentation, and database management with SQL and NoSQL (eg, Mongo). Excellent networking skills, including Read more https://www.jobserve.com/WF01DB54BC1F5290C11.jsap?src=3520B40AB288477F9E48AE28&pf=498F746F7D2D09C4C451 \\xa0 Click below for more similar jobs https://www.jobserve.com/JobSearch.aspx?jid=F01DB54BC1F5290C11&src=3520B40AB288477F9E48AE28 This job matches your currently set up saved search \"aws London 19 Aug 2024\" you have selected to receive matching jobs as soon as they are posted onto the JobServe website. Click below to stop receiving jobs which match your saved search http://www.jobserve.com/IJA/820CD8CF749C6219.jsrs JobServe Job Seeker Services'),\n",
       " Document(metadata={'source': './batch1/_Senior Quant Risk Analyst_Developer_ job alert.eml'}, page_content=\"JobServe Job Alert Senior Quant Risk Analyst/Developer London £140k - £170k per annum Permanent Employment Agency: Cititec Talent Limited Ref: JS-BBBH38384 Posted: 19 Aug 2024 14:11   Senior Quantitative Risk Analyst/Developer Commodities Trading London, UK (hybrid) Company Overview: Our client is a global leader in the energy and commodities markets, helping clients navigate complex markets to maximize revenues and minimize risks. They are looking for a Senior Quant Risk Analyst/Developer to join their Quant Modeling team. This role is critical in developing and enhancing the firm's risk management systems, focusing on Value-at-Risk (VaR) models and advanced risk tools to support various trading activities. Responsibilities: Design and develop new VaR models using historical and factor-based approaches. Research other VaR models with emphasis on commodity market volatility and seasonality. Build, enhance, test and maintain quantitative models specialized for the needs of trading and\"),\n",
       " Document(metadata={'source': './batch1/_Senior Quant Risk Analyst_Developer_ job alert.eml'}, page_content=\"approaches. Research other VaR models with emphasis on commodity market volatility and seasonality. Build, enhance, test and maintain quantitative models specialized for the needs of trading and risk managers, including derivatives pricing and volatility marking. The primary focus is on commodities derivatives, with exposure to other products such equity and rates derivatives. Contribute to the firm's effort to calculate and aggregate raw risk metrics (greeks) from different trading systems to enhance the firm's overall risk management capabilities. Additional emphasis is on counterparty risk with projects on PFE/XVA and initial margin calculations. Improve and extend existing risk reporting tools, including risk analysis and P&L attribution. Requirements: Advanced degree in a quantitative field such as Mathematics, Statistics, Financial Engineering, or a related Read more https://www.jobserve.com/W911831EB20A60D5F5F.jsap?src=3520B40AB288477F9E48AE28&pf=498F746F7D2D09C4C451 \\xa0 Click\"),\n",
       " Document(metadata={'source': './batch1/_Senior Quant Risk Analyst_Developer_ job alert.eml'}, page_content='field such as Mathematics, Statistics, Financial Engineering, or a related Read more https://www.jobserve.com/W911831EB20A60D5F5F.jsap?src=3520B40AB288477F9E48AE28&pf=498F746F7D2D09C4C451 \\xa0 Click below for more similar jobs https://www.jobserve.com/JobSearch.aspx?jid=911831EB20A60D5F5F&src=3520B40AB288477F9E48AE28 This job matches your currently set up saved search \"Data Engineer London 19 Aug 2024\" you have selected to receive matching jobs as soon as they are posted onto the JobServe website. Click below to stop receiving jobs which match your saved search http://www.jobserve.com/IJA/4B2AB9C55D5AA32B.jsrs JobServe Job Seeker Services'),\n",
       " Document(metadata={'source': './batch1/_Software Engineer_ job alert.eml'}, page_content='JobServe Job Alert Software Engineer London Not Specified Contract Employment Business: TEKsystems Ref: JSJP-004684467 Posted: 19 Aug 2024 14:55   Software Developer Software Developer required for our client, a global leading client in the financial sector. Description: We are currently supporting our client with providing a team of developers with both Java and Python experience to work with a global leading client in the financial sector a s part of a 12/24 months program. The responsibilities for this role will change day to day with the view will be to enable us and the client to provide you with all of the skills/upskilling over the program to become a fully-fledged, experienced software developer/member of the team. With the opportunity to build a long-lasting and successful career and progression to a permanent position to continue to progress your career with them from there. The program will consist of one to one mentorship from both a pastoral and technical side, with the'),\n",
       " Document(metadata={'source': './batch1/_Software Engineer_ job alert.eml'}, page_content=\"and progression to a permanent position to continue to progress your career with them from there. The program will consist of one to one mentorship from both a pastoral and technical side, with the opportunity to upskill on 100's of relevant courses. It's a brilliant opportunity to work with senior developers, traders and multiple stakeholders across the company, enhancing and developing your skills - leading you to a career of success! Skills: Python Java Software development Job Title: Software Engineer Location: London, UK Job Type: Contract Trading as TEKsystems. Allegis Group Limited, Bracknell, RG12 1RT, United Kingdom. No. 2876353. Allegis Group Limited operates as an Employment Business and Employment Agency as set out in the Conduct of Employment Agencies and Employment Businesses Regulations 2003. TEKsystems is a company Read more https://www.jobserve.com/WB58D7128E42B9D639B.jsap?src=3520B40AB288477F9E48AE28&pf=498F746F7D2D09C4C451 \\xa0 Click below for more similar jobs\"),\n",
       " Document(metadata={'source': './batch1/_Software Engineer_ job alert.eml'}, page_content='Regulations 2003. TEKsystems is a company Read more https://www.jobserve.com/WB58D7128E42B9D639B.jsap?src=3520B40AB288477F9E48AE28&pf=498F746F7D2D09C4C451 \\xa0 Click below for more similar jobs https://www.jobserve.com/JobSearch.aspx?jid=B58D7128E42B9D639B&src=3520B40AB288477F9E48AE28 This job matches your currently set up saved search \"Data Engineer London 19 Aug 2024\" you have selected to receive matching jobs as soon as they are posted onto the JobServe website. Click below to stop receiving jobs which match your saved search http://www.jobserve.com/IJA/4B2AB9C55D5AA32B.jsrs JobServe Job Seeker Services'),\n",
       " Document(metadata={'source': './batch1/_Solution Architect - Active SC_ job alert.eml'}, page_content='JobServe Job Alert Solution Architect - Active SC City of London Contract 12 Months Employment Business: Experis IT Ref: JS-BBBH230508 Posted: 19 Aug 2024 15:26   Solution Architect 6-12 months Remote Active SC cleared required £700 per day Inside IR35 Background to the role of Solution Architect: The SAS (Shared Application Services) team sits in the Digital, Data and Technology (DDaT) team. Our client has multiple Cloud platforms hosting applications and systems used by the Portfolio teams. These existing cloud platforms carry technical debt and do not enable the Portfolio teams to release changes quickly. With this in mind, the SAS team want to build a centralised Core Cloud platform hosted in AWS that: consolidates existing cloud platforms; improves the security posture of the platform; enables the teams to release changes quicker; scale and industrialise the Core Cloud platform to be used as the platform of choice by the other Portfolio teams. The SAS team are seeking a hands-on'),\n",
       " Document(metadata={'source': './batch1/_Solution Architect - Active SC_ job alert.eml'}, page_content=\"enables the teams to release changes quicker; scale and industrialise the Core Cloud platform to be used as the platform of choice by the other Portfolio teams. The SAS team are seeking a hands-on Solution Architect to work alongside to design and build the centralised Coe Cloud platform in AWS. Two key services that we are aware of that would be hosted on this platform are: A web application being build with a go live date of Feb 2025; ~70 services currently hosted on ACP (one of the existing cloud platforms) which will need to be migrated to Core Cloud. If you meet the above requirements, please apply for the vacancy to be contacted by an Experis Consultant. If you haven't been contacted within 2 weeks of application, please consider the vacancy closed. Read more https://www.jobserve.com/WBEC7F28C63A112AFD1.jsap?src=3520B40AB288477F9E48AE28&pf=498F746F7D2D09C4C451 \\xa0 Click below for more similar jobs\"),\n",
       " Document(metadata={'source': './batch1/_Solution Architect - Active SC_ job alert.eml'}, page_content='application, please consider the vacancy closed. Read more https://www.jobserve.com/WBEC7F28C63A112AFD1.jsap?src=3520B40AB288477F9E48AE28&pf=498F746F7D2D09C4C451 \\xa0 Click below for more similar jobs https://www.jobserve.com/JobSearch.aspx?jid=BEC7F28C63A112AFD1&src=3520B40AB288477F9E48AE28 This job matches your currently set up saved search \"aws London 19 Aug 2024\" you have selected to receive matching jobs as soon as they are posted onto the JobServe website. Click below to stop receiving jobs which match your saved search http://www.jobserve.com/IJA/820CD8CF749C6219.jsrs JobServe Job Seeker Services'),\n",
       " Document(metadata={'source': './batch1/_System Security Engineer - GBP60K Remote_ job alert.eml'}, page_content='JobServe Job Alert System Security Engineer - £60K Remote London £45k - £55k per annum Permanent Employment Agency: Develop Group Ltd Ref: JS-BBBH5448 Posted: 19 Aug 2024 13:59   System Security Engineer | SC Eligible | 2 stage process | remote | £60K I am working with a small consultancy/agency who have grown 200% over the last 2 years and are continuing that growth. They are looking to add a System Security Engineer to their team to on replacing one of their platforms that some of their biggest clients work on. This role will be perfect for someone who can be flexible and happy to work with clients from time to time. They are doing a 2-stage process, the office is based in London where occasional travel is required, they are offering up to £60,000 per annum. MUST BE ELIGIBLE FOR SC CLEARANCE The Role: Sentinel Defender for (Office 365, Endpoint, Cloud etc) Python Azure Crowdstrike (Not essential) If you want to learn more, please apply and or reach out to me on LinkedIn and we can'),\n",
       " Document(metadata={'source': './batch1/_System Security Engineer - GBP60K Remote_ job alert.eml'}, page_content='The Role: Sentinel Defender for (Office 365, Endpoint, Cloud etc) Python Azure Crowdstrike (Not essential) If you want to learn more, please apply and or reach out to me on LinkedIn and we can set up a call! System Security Engineer | SC Eligible | 2 stage process | remote | £60K Read more https://www.jobserve.com/W47B06E9A5A18963A9C.jsap?src=3520B40AB288477F9E48AE28&pf=498F746F7D2D09C4C451 \\xa0 Click below for more similar jobs https://www.jobserve.com/JobSearch.aspx?jid=47B06E9A5A18963A9C&src=3520B40AB288477F9E48AE28 This job matches your currently set up saved search \"AI Engineer London 19 Aug 2024\" you have selected to receive matching jobs as soon as they are posted onto the JobServe website. Click below to stop receiving jobs which match your saved search http://www.jobserve.com/IJA/FA367875DC061203.jsrs JobServe Job Seeker Services'),\n",
       " Document(metadata={'source': './batch1/_Technical Architect - Contract - GBP600_day Outside IR35_ job alert.eml'}, page_content='JobServe Job Alert Technical Architect - Contract - £600/day Outside IR35 London £600 - £650 per day Contract 3 Months Employment Business: La Fosse Associates Limited Ref: JS-BBBH105170 Posted: 19 Aug 2024 15:24 Xavier.Labat.1540A.B13830C@apps.jobserve.com Technical Architect - Contract - Outside IR35 - £600/day Our client is a leader in digital innovation, delivering scalable solutions for global enterprises. We are seeking a skilled Technical Architect for a contract role to help us build and optimize our digital platforms. Responsibilities: Architect and implement enterprise-grade headless CMS solutions, with a focus on Contentful. Integrate headless SaaS products into our ecosystem. Design and deploy AWS infrastructure using Cloudfront, Lambda, API Gateway, and EC2. Develop high-quality Front End applications using Next.js, React, and Typescript. Collaborate on design systems and explore design-to-code automation. Requirements: Expertise with headless CMS, especially Contentful'),\n",
       " Document(metadata={'source': './batch1/_Technical Architect - Contract - GBP600_day Outside IR35_ job alert.eml'}, page_content='Front End applications using Next.js, React, and Typescript. Collaborate on design systems and explore design-to-code automation. Requirements: Expertise with headless CMS, especially Contentful (certification is a plus). Strong experience with AWS services (Cloudfront, Lambda, API Gateway, EC2). Proficiency in Next.js, React, and Typescript. Familiarity with design systems and design-to-code automation. Excellent problem-solving and communication skills. Please get in touch if this looks like a good fit: (see below) Technical Architect - Contract - Outside IR35 - £600/day Read more https://www.jobserve.com/WF4EFEA2A412DD291DF.jsap?src=3520B40AB288477F9E48AE28&pf=498F746F7D2D09C4C451 \\xa0 Click below for more similar jobs https://www.jobserve.com/JobSearch.aspx?jid=F4EFEA2A412DD291DF&src=3520B40AB288477F9E48AE28 This job matches your currently set up saved search \"aws London 19 Aug 2024\" you have selected to receive matching jobs as soon as they are posted onto the JobServe website.'),\n",
       " Document(metadata={'source': './batch1/_Technical Architect - Contract - GBP600_day Outside IR35_ job alert.eml'}, page_content='This job matches your currently set up saved search \"aws London 19 Aug 2024\" you have selected to receive matching jobs as soon as they are posted onto the JobServe website. Click below to stop receiving jobs which match your saved search http://www.jobserve.com/IJA/820CD8CF749C6219.jsrs JobServe Job Seeker Services'),\n",
       " Document(metadata={'source': './batch1/_Technical Product Analyst - INSIDE IR35_ job alert.eml'}, page_content='JobServe Job Alert Technical Product Analyst - INSIDE IR35 City of London £350 - £365 per day Contract 6 months Employment Business: LA International Computer Consultants Ltd Ref: JS-JZG/127037 Posted: 19 Aug 2024 14:51   A Technical Product Analyst is required to perform business and data analysis to implement and maintain solutions within Financial Crime Technology. Coordinating with business stakeholders and technology colleagues to plan project deliverables, liaising with developers and business stakeholders and properly document & communicate functional requirements (FRD) and technical requirements, performing in-depth impact analysis to provide business stakeholders insight to monitoring brought by data or system changes. This role is hybrid requiring 2 days per week on site in London and is INSIDE IR35 so you will need to work via an FCSA accredited umbrella company Essential Skills and experience: *Ability to translate business requirements into technical stories *Functional'),\n",
       " Document(metadata={'source': './batch1/_Technical Product Analyst - INSIDE IR35_ job alert.eml'}, page_content='and is INSIDE IR35 so you will need to work via an FCSA accredited umbrella company Essential Skills and experience: *Ability to translate business requirements into technical stories *Functional understanding of Financial crime *SQL Experience *Python for big data querying *Exposure to data controls techniques *AWS migrations *Knowledge in Investment Bank or Correspondent Banking Anti-Money Laundering Transaction Monitoring Desireable skills and experience: *Exposure or awareness of any of the following: cloud technology, Big Data/Hadoop ecosystem, Spark SQL, microservices or ETL processing would be beneficial LA International is a HMG approved ICT Recruitment and Project Solutions Consultancy, operating globally from the largest single site in the UK as an IT Consultancy or as an Employment Business & Agency depending upon the precise nature of the work, for security cleared jobs or non-clearance Read more'),\n",
       " Document(metadata={'source': './batch1/_Technical Product Analyst - INSIDE IR35_ job alert.eml'}, page_content='from the largest single site in the UK as an IT Consultancy or as an Employment Business & Agency depending upon the precise nature of the work, for security cleared jobs or non-clearance Read more https://www.jobserve.com/WC94BBE559C27664230.jsap?src=3520B40AB288477F9E48AE28&pf=498F746F7D2D09C4C451 \\xa0 Click below for more similar jobs https://www.jobserve.com/JobSearch.aspx?jid=C94BBE559C27664230&src=3520B40AB288477F9E48AE28 This job matches your currently set up saved search \"aws London 19 Aug 2024\" you have selected to receive matching jobs as soon as they are posted onto the JobServe website. Click below to stop receiving jobs which match your saved search http://www.jobserve.com/IJA/820CD8CF749C6219.jsrs JobServe Job Seeker Services')]"
      ]
     },
     "execution_count": 10,
     "metadata": {},
     "output_type": "execute_result"
    }
   ],
   "source": [
    "docs"
   ]
  },
  {
   "cell_type": "code",
   "execution_count": 11,
   "metadata": {},
   "outputs": [
    {
     "data": {
      "text/plain": [
       "146"
      ]
     },
     "execution_count": 11,
     "metadata": {},
     "output_type": "execute_result"
    }
   ],
   "source": [
    "len(docs)"
   ]
  },
  {
   "cell_type": "code",
   "execution_count": 12,
   "metadata": {},
   "outputs": [
    {
     "name": "stderr",
     "output_type": "stream",
     "text": [
      "c:\\Users\\ashwi\\kunal_programming\\self-project\\venv\\lib\\site-packages\\sentence_transformers\\cross_encoder\\CrossEncoder.py:11: TqdmWarning: IProgress not found. Please update jupyter and ipywidgets. See https://ipywidgets.readthedocs.io/en/stable/user_install.html\n",
      "  from tqdm.autonotebook import tqdm, trange\n",
      "c:\\Users\\ashwi\\kunal_programming\\self-project\\venv\\lib\\site-packages\\transformers\\tokenization_utils_base.py:1601: FutureWarning: `clean_up_tokenization_spaces` was not set. It will be set to `True` by default. This behavior will be depracted in transformers v4.45, and will be then set to `False` by default. For more details check this issue: https://github.com/huggingface/transformers/issues/31884\n",
      "  warnings.warn(\n"
     ]
    }
   ],
   "source": [
    "embeddings = HuggingFaceEmbeddings(model_name=\"all-MiniLM-L6-v2\")"
   ]
  },
  {
   "cell_type": "code",
   "execution_count": 14,
   "metadata": {},
   "outputs": [],
   "source": [
    "db=FAISS.from_documents(docs, embeddings)"
   ]
  },
  {
   "cell_type": "code",
   "execution_count": 12,
   "metadata": {},
   "outputs": [
    {
     "data": {
      "text/plain": [
       "['_1st Line Support - ServiceNow_ job alert.eml',\n",
       " '_1st Line Support Engineer_ job alert.eml',\n",
       " '_Angular & Node.Js - Full Stack Developer - Lead_Senior_ job alert.eml',\n",
       " '_Application Support Team Lead - Commodities, SQL Server, Oracle, Windows, Linux, Unix,Java, .NET,_ job alert.eml',\n",
       " '_Brand Analyst - Berkshire_ job alert.eml',\n",
       " '_Business Analyst - Verisk_PAS_Claims_ job alert.eml',\n",
       " '_Clinical Start-Up Specialist- Sponsor-dedicated_ Location_ UK_ job alert.eml',\n",
       " '_Clinical Ward Manager_ job alert.eml',\n",
       " '_Cyber Security Analyst_ job alert.eml',\n",
       " '_D365 CRM Manager - Martech, Outside IR35_ job alert.eml',\n",
       " '_Data & Integration Architect_ job alert.eml',\n",
       " '_Data Analytics Analyst_ job alert.eml',\n",
       " '_Data Architect_ job alert.eml',\n",
       " '_Data Governance Lead - London Insurance Market - Hybrid_ job alert.eml',\n",
       " '_Data Migration Analyst - DB & DC pensions - SQL_ job alert.eml',\n",
       " '_Data Scientist_ job alert.eml',\n",
       " '_DataPower Administrator_ job alert.eml',\n",
       " '_DELIVERY DRIVER (self employed)_ job alert.eml',\n",
       " '_Experienced Clinical Research Associate_ job alert.eml',\n",
       " '_Field Engineer - Brighton_ job alert.eml',\n",
       " '_IFRS 9 Implementation Engineer - SAS Developer_ job alert.eml',\n",
       " '_Infrastructure Architect, Redhill_ job alert.eml',\n",
       " '_Infrastructure Engineer - VDI_ job alert.eml',\n",
       " '_Infrastructure Engineer, Redhill_ job alert.eml',\n",
       " '_Market Vendors Data Analyst_ job alert.eml',\n",
       " '_Network Automation Tester_ job alert.eml',\n",
       " '_Network Engineer -Cisco-Juniper SRX-DV Cleared_ job alert.eml',\n",
       " '_Network Engineer, Redhill_ job alert.eml',\n",
       " '_Network Engineers_ job alert.eml',\n",
       " '_Nuclear Compliance Officer_ job alert.eml',\n",
       " '_Nuclear Regulatory Analyst_ job alert.eml',\n",
       " '_Nuclear Site Inspector_ job alert.eml',\n",
       " '_ODOO Functional Consultant_ job alert.eml',\n",
       " '_Office For Nuclear Regulation Inspector_ job alert.eml',\n",
       " '_PCRF Designer_ job alert.eml',\n",
       " '_Power Apps Canvas Automate Developer - Banking_ job alert.eml',\n",
       " '_Procurement Administrator_ job alert.eml',\n",
       " '_Sales Support Coordinator_ job alert.eml',\n",
       " '_SC Cleared DevOps Engineer_ job alert.eml',\n",
       " '_SCCM infrastructure Engineer_ job alert.eml',\n",
       " '_Scrum Master_ job alert.eml',\n",
       " '_Senior Cloud Engineer_ job alert.eml',\n",
       " '_Senior Data Analyst SQL Server Python_ job alert.eml',\n",
       " '_Senior Network Automation Developer_ job alert.eml',\n",
       " '_Senior Quant Risk Analyst_Developer_ job alert.eml',\n",
       " '_Software Engineer_ job alert.eml',\n",
       " '_Solution Architect - Active SC_ job alert.eml',\n",
       " '_System Security Engineer - GBP60K Remote_ job alert.eml',\n",
       " '_Technical Architect - Contract - GBP600_day Outside IR35_ job alert.eml',\n",
       " '_Technical Product Analyst - INSIDE IR35_ job alert.eml']"
      ]
     },
     "execution_count": 12,
     "metadata": {},
     "output_type": "execute_result"
    }
   ],
   "source": [
    "eml_files = []\n",
    "folder_path = 'batch1'\n",
    "\n",
    "# Loop through the files in the specified folder\n",
    "for file_name in os.listdir(folder_path):\n",
    "    # Check if the file has a .eml extension\n",
    "    if file_name.endswith('.eml'):\n",
    "        eml_files.append(file_name)\n",
    "\n",
    "eml_files"
   ]
  },
  {
   "cell_type": "code",
   "execution_count": 16,
   "metadata": {},
   "outputs": [],
   "source": [
    "import pandas as pd\n",
    "data_df = pd.DataFrame(columns=['filename', 'document'])"
   ]
  },
  {
   "cell_type": "code",
   "execution_count": 17,
   "metadata": {},
   "outputs": [
    {
     "data": {
      "text/html": [
       "<div>\n",
       "<style scoped>\n",
       "    .dataframe tbody tr th:only-of-type {\n",
       "        vertical-align: middle;\n",
       "    }\n",
       "\n",
       "    .dataframe tbody tr th {\n",
       "        vertical-align: top;\n",
       "    }\n",
       "\n",
       "    .dataframe thead th {\n",
       "        text-align: right;\n",
       "    }\n",
       "</style>\n",
       "<table border=\"1\" class=\"dataframe\">\n",
       "  <thead>\n",
       "    <tr style=\"text-align: right;\">\n",
       "      <th></th>\n",
       "      <th>filename</th>\n",
       "      <th>document</th>\n",
       "    </tr>\n",
       "  </thead>\n",
       "  <tbody>\n",
       "  </tbody>\n",
       "</table>\n",
       "</div>"
      ],
      "text/plain": [
       "Empty DataFrame\n",
       "Columns: [filename, document]\n",
       "Index: []"
      ]
     },
     "execution_count": 17,
     "metadata": {},
     "output_type": "execute_result"
    }
   ],
   "source": [
    "data_df"
   ]
  },
  {
   "cell_type": "code",
   "execution_count": 24,
   "metadata": {},
   "outputs": [
    {
     "name": "stderr",
     "output_type": "stream",
     "text": [
      "text/html was not found. Falling back to text/plain.\n",
      "text/html was not found. Falling back to text/plain.\n",
      "text/html was not found. Falling back to text/plain.\n",
      "text/html was not found. Falling back to text/plain.\n",
      "text/html was not found. Falling back to text/plain.\n",
      "text/html was not found. Falling back to text/plain.\n",
      "text/html was not found. Falling back to text/plain.\n",
      "text/html was not found. Falling back to text/plain.\n",
      "text/html was not found. Falling back to text/plain.\n",
      "text/html was not found. Falling back to text/plain.\n",
      "text/html was not found. Falling back to text/plain.\n",
      "text/html was not found. Falling back to text/plain.\n",
      "text/html was not found. Falling back to text/plain.\n",
      "text/html was not found. Falling back to text/plain.\n",
      "text/html was not found. Falling back to text/plain.\n",
      "text/html was not found. Falling back to text/plain.\n",
      "text/html was not found. Falling back to text/plain.\n",
      "text/html was not found. Falling back to text/plain.\n",
      "text/html was not found. Falling back to text/plain.\n",
      "text/html was not found. Falling back to text/plain.\n",
      "text/html was not found. Falling back to text/plain.\n",
      "text/html was not found. Falling back to text/plain.\n",
      "text/html was not found. Falling back to text/plain.\n",
      "text/html was not found. Falling back to text/plain.\n",
      "text/html was not found. Falling back to text/plain.\n",
      "text/html was not found. Falling back to text/plain.\n",
      "text/html was not found. Falling back to text/plain.\n",
      "text/html was not found. Falling back to text/plain.\n",
      "text/html was not found. Falling back to text/plain.\n",
      "text/html was not found. Falling back to text/plain.\n",
      "text/html was not found. Falling back to text/plain.\n",
      "text/html was not found. Falling back to text/plain.\n",
      "text/html was not found. Falling back to text/plain.\n",
      "text/html was not found. Falling back to text/plain.\n",
      "text/html was not found. Falling back to text/plain.\n",
      "text/html was not found. Falling back to text/plain.\n",
      "text/html was not found. Falling back to text/plain.\n",
      "text/html was not found. Falling back to text/plain.\n",
      "text/html was not found. Falling back to text/plain.\n",
      "text/html was not found. Falling back to text/plain.\n",
      "text/html was not found. Falling back to text/plain.\n",
      "text/html was not found. Falling back to text/plain.\n",
      "text/html was not found. Falling back to text/plain.\n",
      "text/html was not found. Falling back to text/plain.\n",
      "text/html was not found. Falling back to text/plain.\n",
      "text/html was not found. Falling back to text/plain.\n"
     ]
    }
   ],
   "source": [
    "for file in eml_files:\n",
    "    loader = UnstructuredEmailLoader()\n",
    "    loader = UnstructuredEmailLoader(f\"./batch1/{file}\")\n",
    "    data_df['filename'] = file\n",
    "    data_df['document'] = loader.load()"
   ]
  },
  {
   "cell_type": "code",
   "execution_count": 25,
   "metadata": {},
   "outputs": [
    {
     "data": {
      "text/html": [
       "<div>\n",
       "<style scoped>\n",
       "    .dataframe tbody tr th:only-of-type {\n",
       "        vertical-align: middle;\n",
       "    }\n",
       "\n",
       "    .dataframe tbody tr th {\n",
       "        vertical-align: top;\n",
       "    }\n",
       "\n",
       "    .dataframe thead th {\n",
       "        text-align: right;\n",
       "    }\n",
       "</style>\n",
       "<table border=\"1\" class=\"dataframe\">\n",
       "  <thead>\n",
       "    <tr style=\"text-align: right;\">\n",
       "      <th></th>\n",
       "      <th>filename</th>\n",
       "      <th>document</th>\n",
       "    </tr>\n",
       "  </thead>\n",
       "  <tbody>\n",
       "    <tr>\n",
       "      <th>0</th>\n",
       "      <td>_Technical Product Analyst - INSIDE IR35_ job ...</td>\n",
       "      <td>page_content='JobServe Job Alert Technical Pro...</td>\n",
       "    </tr>\n",
       "  </tbody>\n",
       "</table>\n",
       "</div>"
      ],
      "text/plain": [
       "                                            filename  \\\n",
       "0  _Technical Product Analyst - INSIDE IR35_ job ...   \n",
       "\n",
       "                                            document  \n",
       "0  page_content='JobServe Job Alert Technical Pro...  "
      ]
     },
     "execution_count": 25,
     "metadata": {},
     "output_type": "execute_result"
    }
   ],
   "source": [
    "data_df"
   ]
  },
  {
   "cell_type": "code",
   "execution_count": 13,
   "metadata": {},
   "outputs": [],
   "source": [
    "! pip freeze > new_requirements.txt"
   ]
  },
  {
   "cell_type": "code",
   "execution_count": 27,
   "metadata": {},
   "outputs": [],
   "source": [
    "from langchain_community.document_loaders import UnstructuredFileLoader"
   ]
  },
  {
   "cell_type": "code",
   "execution_count": 45,
   "metadata": {},
   "outputs": [
    {
     "data": {
      "text/plain": [
       "Document(metadata={'source': './batch1/_1st Line Support Engineer_ job alert.eml'}, page_content='JobServe Job Alert 1st Line Support Engineer London £14.00 - £14.56 per hour + Negotiable Contract 2 Months Employment Business: Certes Computing Ltd Ref: JS-82042 Posted: 19 Aug 2024 14:38 Joanne.Stanley.872CB.856ADD6@apps.jobserve.com 1st Line Support Engineer Duration: 2 Months Rate: £14.56 per hour Location: London Start: ASAP IR35 Status: Inside We require a 1st Line Support Engineer for our higher education client to provide a professional customer service to all the staff, students and visitors who contact their ICT department. You will be the first point of contact for support requests that come to the ICT department via email, phone and in-person walk-ins to the ICT office Responsibilities include: Logging service requests and incidents in the Service Desk software Performing password and multi-factor authentication resets Helping staff and students to connect to WiFi networks 1st Line troubleshooting of Windows desktop issues including Office 365 In-person and remote troubleshooting of user issues with client issued devices (laptops and mobile devices) In-person troubleshooting of Teams/Zoom enabled multi-media trolleys Initial investigation of printing issues within the fleet of 8 multi-function printers including paper jams and replenishing toner Generating WiFi guest passes for visitors Escalating issues to other members of the ICT team via the Service Desk software Essential skills & experience required: You will possess previous IT experience within a 1st Line Support role/Service Desk. Proficient with the MS Office suite Good troubleshooting skills Excellent customer service skills Able to be onsite in London full time (Mon to Fri) for this role (no remote working). To apply for this role Read more https://www.jobserve.com/W72A011B6DB046D1E6F.jsap?src=3520B40AB288477F9E48AE28&pf=498F746F7D2D09C4C451 \\xa0 Click below for more similar jobs https://www.jobserve.com/JobSearch.aspx?jid=72A011B6DB046D1E6F&src=3520B40AB288477F9E48AE28 This job matches your currently set up saved search \"Data Engineer London 19 Aug 2024\" you have selected to receive matching jobs as soon as they are posted onto the JobServe website. Click below to stop receiving jobs which match your saved search http://www.jobserve.com/IJA/4B2AB9C55D5AA32B.jsrs JobServe Job Seeker Services')"
      ]
     },
     "execution_count": 45,
     "metadata": {},
     "output_type": "execute_result"
    }
   ],
   "source": [
    "data_df['document'].iloc[1]"
   ]
  },
  {
   "cell_type": "code",
   "execution_count": 39,
   "metadata": {},
   "outputs": [
    {
     "name": "stderr",
     "output_type": "stream",
     "text": [
      "text/html was not found. Falling back to text/plain.\n"
     ]
    },
    {
     "name": "stdout",
     "output_type": "stream",
     "text": [
      "8888 JobServe Job Alert 1st Line Support - ServiceNow Maidstone, Kent, England Market rates Contract 3 months Employment Business: Proactive Appointments Ref: JS10586BRM Posted: 19 Aug 2024 15:21 Resource25.F0461.B26F6E4@apps.jobserve.com 1st Line IT Support - ServiceNow experience Our client is looking for Service Desk Analyst with strong (and recent) experience of ServiceNow. The role is initially a 3 month contract with a view to extend long term thereafter. This role will be based 3 days on site so ideally you will be commutable from Maidstone. The role will be supporting several hundred users so a previous background working in large corporate style environment would be a distinct advantage. You will be responsible for providing first line technical assistance and support to end-users and assisting with troubleshooting software and hardware issues. The role requires someone who is immediately available or at short notice due to the urgency of the role. Inside IR35 Hybrid working available Market Rates - Depending on Experience Key skills/experience ServiceNow experience - Essential Previous experience in a similar 1st Line/Service Desk/IT Helpdesk Support capacity Strong & in-depth technical knowledge covering Microsoft technologies Respond to help desk tickets and provide timely technical support to end-users Excellent problem-solving & troubleshooting skills with excellent internal Customer Service skills Excellent communication skills Any experience of the following would be highly desirable: Intune, MDM or BOYD. Due to the volume of applications received for positions, it will not be possible to respond to all applications and only applicants who are considered suitable for interview will be Read more https://www.jobserve.com/WECD59DBF2D05E108FD.jsap?src=3520B40AB288477F9E48AE28&pf=498F746F7D2D09C4C451   Click below for more similar jobs https://www.jobserve.com/JobSearch.aspx?jid=ECD59DBF2D05E108FD&src=3520B40AB288477F9E48AE28 This job matches your currently set up saved search \"Data Engineer London 19 Aug 2024\" you have selected to receive matching jobs as soon as they are posted onto the JobServe website. Click below to stop receiving jobs which match your saved search http://www.jobserve.com/IJA/4B2AB9C55D5AA32B.jsrs JobServe Job Seeker Services\n"
     ]
    }
   ],
   "source": [
    "loader = UnstructuredEmailLoader('batch1/_1st Line Support - ServiceNow_ job alert.eml')\n",
    "doc = loader.load()\n",
    "for i in doc:\n",
    "    print(\"8888\",i.page_content)"
   ]
  },
  {
   "cell_type": "code",
   "execution_count": null,
   "metadata": {},
   "outputs": [],
   "source": []
  },
  {
   "cell_type": "markdown",
   "metadata": {},
   "source": [
    "## Trying astra vectorstore database. Using Google Embeddings"
   ]
  },
  {
   "cell_type": "code",
   "execution_count": 2,
   "metadata": {},
   "outputs": [],
   "source": [
    "from langchain_astradb import AstraDBVectorStore"
   ]
  },
  {
   "cell_type": "code",
   "execution_count": 3,
   "metadata": {},
   "outputs": [
    {
     "name": "stderr",
     "output_type": "stream",
     "text": [
      "c:\\Users\\ashwi\\kunal_programming\\self-project\\venv\\lib\\site-packages\\tqdm\\auto.py:21: TqdmWarning: IProgress not found. Please update jupyter and ipywidgets. See https://ipywidgets.readthedocs.io/en/stable/user_install.html\n",
      "  from .autonotebook import tqdm as notebook_tqdm\n"
     ]
    }
   ],
   "source": [
    "from langchain_google_genai import GoogleGenerativeAIEmbeddings\n",
    "embeddings = GoogleGenerativeAIEmbeddings(model=\"models/text-embedding-004\")"
   ]
  },
  {
   "cell_type": "code",
   "execution_count": 4,
   "metadata": {},
   "outputs": [],
   "source": [
    "from langchain_community.document_loaders import PyPDFDirectoryLoader"
   ]
  },
  {
   "cell_type": "code",
   "execution_count": 5,
   "metadata": {},
   "outputs": [],
   "source": [
    "from langchain.indexes.vectorstore import VectorStoreIndexWrapper"
   ]
  },
  {
   "cell_type": "code",
   "execution_count": 6,
   "metadata": {},
   "outputs": [
    {
     "data": {
      "text/plain": [
       "True"
      ]
     },
     "execution_count": 6,
     "metadata": {},
     "output_type": "execute_result"
    }
   ],
   "source": [
    "from dotenv import load_dotenv\n",
    "load_dotenv()"
   ]
  },
  {
   "cell_type": "code",
   "execution_count": 7,
   "metadata": {},
   "outputs": [],
   "source": [
    "import os"
   ]
  },
  {
   "cell_type": "code",
   "execution_count": 8,
   "metadata": {},
   "outputs": [],
   "source": [
    "loader = PyPDFDirectoryLoader('jobs')"
   ]
  },
  {
   "cell_type": "code",
   "execution_count": 9,
   "metadata": {},
   "outputs": [],
   "source": [
    "documents = loader.load()"
   ]
  },
  {
   "cell_type": "code",
   "execution_count": 10,
   "metadata": {},
   "outputs": [],
   "source": [
    "from langchain.text_splitter import RecursiveCharacterTextSplitter\n",
    "text_splitter = RecursiveCharacterTextSplitter(\n",
    "    chunk_size=800,\n",
    "    chunk_overlap=200,\n",
    "    length_function=len,\n",
    ")\n",
    "docs = text_splitter.split_documents(documents)"
   ]
  },
  {
   "cell_type": "code",
   "execution_count": 12,
   "metadata": {},
   "outputs": [
    {
     "data": {
      "text/plain": [
       "354"
      ]
     },
     "execution_count": 12,
     "metadata": {},
     "output_type": "execute_result"
    }
   ],
   "source": [
    "len(docs)"
   ]
  },
  {
   "cell_type": "code",
   "execution_count": 16,
   "metadata": {},
   "outputs": [
    {
     "data": {
      "text/plain": [
       "Document(metadata={'source': 'jobs\\\\job3.pdf', 'page': 1}, page_content=\"Excellent problem-solving skills and attention to detail.\\nEffective communication and teamwork abilities.\\nEnthusiasm for learning and professional development.\\nPrevious internship or project experience in aerospace design and certification is a plus\\nWork Authorisation:\\nThis requisition is for a locally hired position in either the UK or Ireland. Candidates must have current\\nlegal authorisation to work immediately in the UK or Ireland. Boeing will not attempt to obtain\\nImmigration and labour sponsorship for any applicants.\\nBenefits and pay are determined at the local level and are not part of Boeing U.S. based payroll. This\\nposition does not have relocation approval.\\nBoeing is the world's largest aerospace company and leading manufacturer of commercial airplanes\")"
      ]
     },
     "execution_count": 16,
     "metadata": {},
     "output_type": "execute_result"
    }
   ],
   "source": [
    "docs[153]"
   ]
  },
  {
   "cell_type": "code",
   "execution_count": 11,
   "metadata": {},
   "outputs": [],
   "source": [
    "astra_vector_store = AstraDBVectorStore(\n",
    "    embedding=embeddings,\n",
    "    namespace=os.environ['ASTRA_DB_NAMESPACE'],\n",
    "    collection_name=\"test\",\n",
    "    token=os.environ[\"ASTRA_DB_APPLICATION_TOKEN\"],\n",
    "    api_endpoint=os.environ[\"ASTRA_DB_API_ENDPOINT\"],\n",
    ")"
   ]
  },
  {
   "cell_type": "code",
   "execution_count": 12,
   "metadata": {},
   "outputs": [
    {
     "name": "stdout",
     "output_type": "stream",
     "text": [
      "Instered 354 headlines.\n"
     ]
    }
   ],
   "source": [
    "astra_vector_store.add_documents(docs)\n",
    "print(\"Instered %i headlines.\" % len(docs))\n",
    "astra_vector_index = VectorStoreIndexWrapper(vectorstore=astra_vector_store)\n"
   ]
  },
  {
   "cell_type": "code",
   "execution_count": 35,
   "metadata": {},
   "outputs": [],
   "source": [
    "from langchain_groq import ChatGroq\n",
    "llm = ChatGroq(model='Gemma2-9b-It')"
   ]
  },
  {
   "cell_type": "code",
   "execution_count": 37,
   "metadata": {},
   "outputs": [
    {
     "name": "stdout",
     "output_type": "stream",
     "text": [
      "Here is the information for each job alert:\n",
      "\n",
      "**Job 1:**\n",
      "\n",
      "* **Job Title:** IT User Support Specialist/IT Support Analyst \n",
      "* **Salary:**  Not specified\n",
      "* **Job Type:** Not specified\n",
      "* **Job Description:**  Not provided in the text\n",
      "* **Key Skills:** Not provided in the text\n",
      "\n",
      "**Job 2:**\n",
      "\n",
      "* **Job Title:** Data Warehousing Specialist\n",
      "* **Salary:** £160 - £210 per day\n",
      "* **Job Type:** Contract\n",
      "* **Job Description:**  \n",
      "    *  The job description is partially cut off, but it mentions the role involves working with a leading investment banking organization.  It also lists responsibilities like:\n",
      "        *  Ensure timely and accurate data delivery to meet business requirements.\n",
      "        *  Perform data quality checks and identify areas for improvement.\n",
      "        *  Collaborate with stakeholders to understand their data needs.\n",
      "        *  Develop and maintain data warehouse documentation.\n",
      "        *  Troubleshoot and resolve data-related issues.\n",
      "* **Key Skills:** Not explicitly listed, but likely include data warehousing, SQL, ETL, data modeling, and experience in the financial industry.\n",
      "\n",
      "\n",
      "\n",
      "Let me know if you'd like me to try and extract more information from the provided text! \n",
      "\n"
     ]
    }
   ],
   "source": [
    "prompt = \"Give me job title, salary, job type, job description and key skills of each job alert\"\n",
    "answer = astra_vector_index.query(prompt, llm=llm)\n",
    "print(answer)"
   ]
  },
  {
   "cell_type": "code",
   "execution_count": null,
   "metadata": {},
   "outputs": [],
   "source": []
  }
 ],
 "metadata": {
  "kernelspec": {
   "display_name": "Python 3",
   "language": "python",
   "name": "python3"
  },
  "language_info": {
   "codemirror_mode": {
    "name": "ipython",
    "version": 3
   },
   "file_extension": ".py",
   "mimetype": "text/x-python",
   "name": "python",
   "nbconvert_exporter": "python",
   "pygments_lexer": "ipython3",
   "version": "3.10.0"
  }
 },
 "nbformat": 4,
 "nbformat_minor": 2
}
